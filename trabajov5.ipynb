{
 "cells": [
  {
   "cell_type": "code",
   "execution_count": 293,
   "metadata": {},
   "outputs": [],
   "source": [
    "# Entrenar el modelo\n",
    "import matplotlib.pyplot as plt\n",
    "w, b, loss_history_train, acc_history_train, loss_history_test, acc_history_test = train_model(X_train, y_train, X_test, y_test, alpha=0.01, max_epochs=300)\n",
    "\n",
    "# Evaluar\n",
    "mse_train, acc_train = evaluate_model(X_train, y_train, w, b)\n",
    "mse_test, acc_test = evaluate_model(X_test, y_test, w, b)\n",
    "\n",
    "print(f\"Train MSE: {mse_train:.4f} | Accuracy: {acc_train:.4f}\")\n",
    "print(f\"Test  MSE: {mse_test:.4f} | Accuracy: {acc_test:.4f}\")\n",
    "\n",
    "# Graficar pérdida\n",
    "plot_loss(loss_history_train)"
   ]
  },
  {
   "cell_type": "markdown",
   "metadata": {},
   "source": [
    "#### Mateo Tejera - **`Segundo Trabajo Práctico`** - `Métodos Computacionales`"
   ]
  },
  {
   "cell_type": "markdown",
   "metadata": {},
   "source": [
    "##### Imports"
   ]
  },
  {
   "cell_type": "code",
   "execution_count": 303,
   "metadata": {},
   "outputs": [],
   "source": [
    "import numpy as np\n",
    "from tqdm.auto import tqdm"
   ]
  },
  {
   "cell_type": "code",
   "execution_count": 304,
   "metadata": {},
   "outputs": [],
   "source": [
    "SEED = 42\n",
    "healthy_path = \"data/raw/Healthy\"\n",
    "parkinson_path = \"data/raw/Parkinson\""
   ]
  },
  {
   "cell_type": "code",
   "execution_count": 306,
   "metadata": {},
   "outputs": [
    {
     "name": "stdout",
     "output_type": "stream",
     "text": [
      "X_train shape: (1304, 4096)\n",
      "y_train shape: (1304,)\n",
      "X_test shape: (328, 4096)\n",
      "y_test shape: (328,)\n"
     ]
    }
   ],
   "source": [
    "# Carga y División de Datos\n",
    "from src.load_data import split_dataset \n",
    "\n",
    "X_train, y_train, X_test, y_test = split_dataset( \n",
    "    healthy_dir=healthy_path,\n",
    "    parkinson_dir=parkinson_path,\n",
    "    test_ratio=0.2,\n",
    "    size=(64, 64),\n",
    "    seed=SEED\n",
    ")\n",
    "\n",
    "print(\"X_train shape:\", X_train.shape)\n",
    "print(\"y_train shape:\", y_train.shape)\n",
    "print(\"X_test shape:\", X_test.shape)\n",
    "print(\"y_test shape:\", y_test.shape)"
   ]
  },
  {
   "cell_type": "code",
   "execution_count": null,
   "metadata": {},
   "outputs": [],
   "source": [
    "#EJERCICIO 1 DERIVADAS\n",
    "\n",
    "# Función de activación\n",
    "def f_wb(x, w, b):\n",
    "    return (np.tanh(np.dot(x, w) + b) + 1) / 2\n",
    "\n",
    "# Derivadas parciales de la función de pérdida L respecto a w y b\n",
    "def derivadas_parciales(X, y, w, b):\n",
    "    t = np.tanh(np.dot(X, w) + b)            # activación\n",
    "    f = f_wb(X, w, b)                        # activación con tanh normalizada\n",
    "\n",
    "    error = f - y                           # diferencia entre predicción y verdadero\n",
    "\n",
    "    # derivadas con regla de la cadena (tanh') = 1 - tanh²\n",
    "    # y sabiendo que la loss es L(w, b) = MSE = 1/N ∑(fi - yi)², entonces:\n",
    "    # 2/N (fi - yi) * dfi/dw o dfi/db\n",
    "    df_dw = 2 * np.dot((error * 0.5*((1 - t**2))), X) / len(X)\n",
    "    df_db = 2 * np.sum((error * 0.5*((1 - t**2)))) / len(X)\n",
    "\n",
    "    return df_dw, df_db"
   ]
  },
  {
   "cell_type": "code",
   "execution_count": null,
   "metadata": {},
   "outputs": [],
   "source": [
    "#EJERCICIO 2 DESCENSO POR GRADIENTE\n",
    "def train_model(X_train, y_train, X_test=None,  y_test=None, seed = SEED, alpha=0.001, max_epochs=10000):\n",
    "    np.random.seed(seed)\n",
    "    w = np.random.randn(X_train.shape[1]) * 0.01  # inicialización pequeña\n",
    "    b = 0.0\n",
    "\n",
    "    loss_history_train = []\n",
    "    acc_history_train  = []\n",
    "    loss_history_test  = []\n",
    "    acc_history_test   = []\n",
    "\n",
    "    for epoch in tqdm(range(1, max_epochs+1), desc=\"Training\", dynamic_ncols=True):\n",
    "        # f =  f_wb(X, w, b)  \n",
    "        # error = f - y\n",
    "\n",
    "        # # Derivadas parciales (como en Ej.1)\n",
    "        # grad_w, grad_b = derivadas_parciales(X, y, w, b)\n",
    "\n",
    "        # # Actualización\n",
    "        # w -= alpha * grad_w\n",
    "        # b -= alpha * grad_b\n",
    "\n",
    "        # # Guardar pérdida cuadrática\n",
    "        # loss = np.mean((f - y)**2)\n",
    "        # loss_history.append(loss)\n",
    "        \n",
    "        # if (epoch + 1) % 1000 == 0:\n",
    "        #     tqdm.write(f\"[epoch {epoch+1}] loss = {loss:.6f}\")\n",
    "            \n",
    "        \n",
    "        # ==== train step ====\n",
    "        f_train = f_wb(X_train, w, b)\n",
    "        loss_t  = np.mean((f_train - y_train)**2)\n",
    "        acc_t   = np.mean((f_train > 0.5) == (y_train > 0.5))\n",
    "        loss_history_train.append(loss_t)\n",
    "        acc_history_train.append(acc_t)\n",
    "\n",
    "        # gradiente y actualización\n",
    "        grad_w, grad_b = derivadas_parciales(X_train, y_train, w, b)\n",
    "        w -= alpha * grad_w\n",
    "        b -= alpha * grad_b\n",
    "\n",
    "        # ==== test evaluation (si se pasan datos de test) ====\n",
    "        if X_test is not None and y_test is not None:\n",
    "            f_test = f_wb(X_test, w, b)\n",
    "            loss_te  = np.mean((f_test - y_test)**2)\n",
    "            acc_te   = np.mean((f_test > 0.5) == (y_test > 0.5))\n",
    "            loss_history_test.append(loss_te)\n",
    "            acc_history_test.append(acc_te)\n",
    "\n",
    "        # logging opcional cada 100 épocas o la primera\n",
    "        if epoch == 1 or epoch % 100 == 0:\n",
    "            msg = f\"Epoch {epoch:4d} | Train loss={loss_t:.4f}, acc={acc_t:.4f}\"\n",
    "            if loss_history_test:\n",
    "                msg += f\" | Test loss={loss_te:.4f}, acc={acc_te:.4f}\"\n",
    "            tqdm.write(msg)\n",
    "        \n",
    "\n",
    "    return w, b, loss_history_train, acc_history_train, loss_history_test, acc_history_test\n",
    "  \n"
   ]
  },
  {
   "cell_type": "code",
   "execution_count": null,
   "metadata": {},
   "outputs": [],
   "source": [
    "#EJERCICIO 3\n",
    "def evaluate_model(X, y, w, b):\n",
    "    f =  f_wb(X, w, b)\n",
    "    mse = np.mean((f - y)**2)\n",
    "    accuracy = np.mean((f > 0.5) == (y > 0.5))\n",
    "    return mse, accuracy"
   ]
  },
  {
   "cell_type": "code",
   "execution_count": 307,
   "metadata": {},
   "outputs": [],
   "source": [
    "from src.plot import plot_loss"
   ]
  },
  {
   "cell_type": "code",
   "execution_count": null,
   "metadata": {},
   "outputs": [],
   "source": [
    "from src.plot import plot_loss_train_test\n",
    " \n",
    "# Entrenamiento\n",
    "w, b, loss_history_train, acc_history_train, loss_history_test, acc_history_test = train_model(X_train, y_train, X_test, y_test, alpha=0.0001, max_epochs=1000)\n",
    "\n",
    "# Estimar curva de test (con w y b finales)\n",
    "# loss_history_test = []\n",
    "# for _ in range(len(loss_history_train)):\n",
    "#     pred_test = np.tanh(np.dot(X_test, w) + b)\n",
    "#     loss_test = np.mean((pred_test - y_test)**2)\n",
    "#     loss_history_test.append(loss_test)\n",
    "\n",
    "# Graficar ambas curvas\n",
    "plot_loss_train_test(loss_history_train, loss_history_test)\n"
   ]
  },
  {
   "cell_type": "code",
   "execution_count": 297,
   "metadata": {},
   "outputs": [],
   "source": [
    "#EJERCICIO 4 NORMALIZACIÓN\n",
    "def normalizar_dataset(X):\n",
    "    return X / 255.0"
   ]
  },
  {
   "cell_type": "code",
   "execution_count": 298,
   "metadata": {},
   "outputs": [],
   "source": [
    "# Normalizar los datos de train y test\n",
    "X_train_n = normalizar_dataset(X_train)\n",
    "X_test_n = normalizar_dataset(X_test)\n",
    "\n",
    "# Entrenar modelo con datos normalizados\n",
    "w_n, b_n, loss_history_train_n, acc_history_train_n, loss_history_test_n, acc_history_test_n = train_model(X_train_n, y_train, X_test_n, y_test, alpha=0.0001, max_epochs=1000)\n",
    "\n",
    "# Evaluar\n",
    "mse_train_n, acc_train_n = evaluate_model(X_train_n, y_train, w_n, b_n)\n",
    "mse_test_n, acc_test_n = evaluate_model(X_test_n, y_test, w_n, b_n)\n",
    "\n",
    "print(f\"[Normalizado] Train MSE: {mse_train_n:.4f} | Accuracy: {acc_train_n:.4f}\")\n",
    "print(f\"[Normalizado] Test  MSE: {mse_test_n:.4f} | Accuracy: {acc_test_n:.4f}\")\n",
    "\n",
    "# Graficar pérdida\n",
    "plot_loss(loss_history_train_n)"
   ]
  },
  {
   "cell_type": "code",
   "execution_count": 299,
   "metadata": {},
   "outputs": [],
   "source": [
    "# Estimar curva de test con datos normalizados (usando w_n y b_n)\n",
    "loss_history_test_n = []\n",
    "for _ in range(len(loss_history_train_n)):\n",
    "    pred_test_n = np.tanh(np.dot(X_test_n, w_n) + b_n)\n",
    "    loss_test_n = np.mean((pred_test_n - y_test)**2)\n",
    "    loss_history_test_n.append(loss_test_n)\n",
    "\n",
    "# Graficar\n",
    "plot_loss_train_test(loss_history_train_n, loss_history_test_n)\n"
   ]
  },
  {
   "cell_type": "code",
   "execution_count": null,
   "metadata": {},
   "outputs": [],
   "source": [
    "#EJERCICIO 5\n",
    "# Lista de alphas a probar\n",
    "alphas = [0.0001, 0.001, 0.01, 0.05, 0.1]\n",
    "\n",
    "results_alpha_sweep = {}\n",
    "for alpha in tqdm(alphas, desc=\"Alphas\"):\n",
    "\n",
    "    w, b, loss_history_train, acc_history_train, loss_history_test, acc_history_test = train_model(X_train_n, y_train, X_test_n, y_test, alpha=alpha, max_epochs=10000)\n",
    "    mse_test, acc_test = evaluate_model(X_test_n, y_test, w, b)\n",
    "    mse_train, acc_train = evaluate_model(X_train, y_train, w, b)\n",
    "\n",
    "    \n",
    "    results_alpha_sweep[alpha] = {\n",
    "        'mse_test': mse_test,\n",
    "        'mse_train': mse_train,\n",
    "        'acc_train_final': acc_train,\n",
    "        'acc_test_final': acc_test,\n",
    "        'acc_train': acc_history_train,\n",
    "        'acc_test': acc_history_test,\n",
    "        'loss_train': loss_history_train,\n",
    "        'loss_test': loss_history_test,\n",
    "    }\n",
    "    \n",
    "    print(f\"α = {alpha:.4f} → \"\n",
    "        f\"Test MSE = {mse_test:.4f} | Acc Test = {acc_test:.4f} | \"\n",
    "        f\"Train MSE = {mse_train:.4f} | Acc Train = {acc_train:.4f}\")"
   ]
  },
  {
   "cell_type": "code",
   "execution_count": null,
   "metadata": {},
   "outputs": [],
   "source": [
    "from src.plot import plot_train_test_metrics\n",
    "\n",
    "plot_train_test_metrics(results_alpha_sweep)"
   ]
  },
  {
   "cell_type": "code",
   "execution_count": 301,
   "metadata": {},
   "outputs": [],
   "source": [
    "best_alpha = 0.001"
   ]
  },
  {
   "cell_type": "code",
   "execution_count": null,
   "metadata": {},
   "outputs": [],
   "source": [
    "\n",
    "\n",
    "#Entrenamiento final con el mejor alpha\n",
    "best_alpha = 0.001\n",
    "\n",
    "results_finales = {}\n",
    "\n",
    "w, b, loss_history_train, acc_history_train, loss_history_test, acc_history_test = train_model(X_train_n, y_train, X_test_n, y_test, alpha=best_alpha, max_epochs=110000)\n",
    "mse_test, acc_test = evaluate_model(X_test_n, y_test, w, b)\n",
    "mse_train, acc_train = evaluate_model(X_train, y_train, w, b)\n",
    "\n",
    "\n",
    "# results_finales = {\n",
    "#     'mse_test': mse_test,\n",
    "#     'mse_train': mse_train,\n",
    "#     'acc_train_final': acc_train,\n",
    "#     'acc_test_final': acc_test,\n",
    "#     'acc_train': acc_history_train,\n",
    "#     'acc_test': acc_history_test,\n",
    "#     'loss_train': loss_history_train,\n",
    "#     'loss_test': loss_history_test,\n",
    "# }\n",
    "\n",
    "print(f\"Test MSE = {mse_test:.4f} | Acc Test = {acc_test:.4f} | \"\n",
    "      f\"Train MSE = {mse_train:.4f} | Acc Train = {acc_train:.4f}\")"
   ]
  },
  {
   "cell_type": "code",
   "execution_count": 272,
   "metadata": {},
   "outputs": [],
   "source": [
    "results_finales = {}\n",
    "\n",
    "results_finales[alpha] = {\n",
    "    'mse_test': mse_test,\n",
    "    'mse_train': mse_train,\n",
    "    'acc_train_final': acc_train,\n",
    "    'acc_test_final': acc_test,\n",
    "    'acc_train': acc_history_train,\n",
    "    'acc_test': acc_history_test,\n",
    "    'loss_train': loss_history_train,\n",
    "    'loss_test': loss_history_test,\n",
    "}"
   ]
  },
  {
   "cell_type": "code",
   "execution_count": null,
   "metadata": {},
   "outputs": [],
   "source": [
    "from src.plot import plot_train_test_metrics "
   ]
  },
  {
   "cell_type": "code",
   "execution_count": 273,
   "metadata": {},
   "outputs": [],
   "source": [
    "plot_train_test_metrics(results_finales, plot_train = True)"
   ]
  },
  {
   "cell_type": "code",
   "execution_count": null,
   "metadata": {},
   "outputs": [],
   "source": []
  },
  {
   "cell_type": "code",
   "execution_count": null,
   "metadata": {},
   "outputs": [],
   "source": [
    "from tqdm.auto import tqdm\n",
    "\n",
    "#Entrenamiento final con el mejor alpha\n",
    "best_alpha = 0.001\n",
    "\n",
    "results_finales_200000 = {}\n",
    "\n",
    "w_final, b_final, loss_history_train, acc_history_train, loss_history_test, acc_history_test = train_model(X_train_n, y_train, X_test_n, y_test, alpha=best_alpha, max_epochs=200000)\n",
    "mse_test, acc_test = evaluate_model(X_test_n, y_test, w_final, b_final)\n",
    "mse_train, acc_train = evaluate_model(X_train, y_train, w_final, b_final)\n",
    "\n",
    "\n",
    "results_finales_200000[best_alpha] = {\n",
    "    'mse_test': mse_test,\n",
    "    'mse_train': mse_train,\n",
    "    'acc_train_final': acc_train,\n",
    "    'acc_test_final': acc_test,\n",
    "    'acc_train': acc_history_train,\n",
    "    'acc_test': acc_history_test,\n",
    "    'loss_train': loss_history_train,\n",
    "    'loss_test': loss_history_test,\n",
    "}\n",
    "\n",
    "print(f\"Test MSE = {mse_test:.4f} | Acc Test = {acc_test:.4f} | \"\n",
    "      f\"Train MSE = {mse_train:.4f} | Acc Train = {acc_train:.4f}\")"
   ]
  },
  {
   "cell_type": "code",
   "execution_count": null,
   "metadata": {},
   "outputs": [],
   "source": [
    "plot_train_test_metrics(results_finales_200000, plot_train = True)"
   ]
  },
  {
   "cell_type": "code",
   "execution_count": null,
   "metadata": {},
   "outputs": [],
   "source": [
    "\n"
   ]
  },
  {
   "cell_type": "markdown",
   "metadata": {},
   "source": [
    "distintas escalas"
   ]
  },
  {
   "cell_type": "code",
   "execution_count": 300,
   "metadata": {},
   "outputs": [],
   "source": [
    "X_train_32, y_train_32, X_test_32, y_test_32 = split_dataset(\n",
    "    healthy_dir=healthy_path,\n",
    "    parkinson_dir=parkinson_path,\n",
    "    test_ratio=0.2,\n",
    "    size=(32, 32)\n",
    ")\n",
    "\n",
    "X_train_32_n = normalizar_dataset(X_train_32)\n",
    "X_test_32_n = normalizar_dataset(X_test_32)\n",
    "\n",
    "X_train_128, y_train_128, X_test_128, y_test_128 = split_dataset(\n",
    "    healthy_dir=healthy_path,\n",
    "    parkinson_dir=parkinson_path,\n",
    "    test_ratio=0.2,\n",
    "    size=(128, 128)\n",
    ")\n",
    "\n",
    "X_train_128_n = normalizar_dataset(X_train_128)\n",
    "X_test_128_n = normalizar_dataset(X_test_128)"
   ]
  },
  {
   "cell_type": "code",
   "execution_count": 302,
   "metadata": {},
   "outputs": [
    {
     "data": {
      "application/vnd.jupyter.widget-view+json": {
       "model_id": "2ebfc84716cf4c8da2776e9a5fa74f9b",
       "version_major": 2,
       "version_minor": 0
      },
      "text/plain": [
       "Tamaños:   0%|          | 0/3 [? restantes]"
      ]
     },
     "metadata": {},
     "output_type": "display_data"
    },
    {
     "data": {
      "application/vnd.jupyter.widget-view+json": {
       "model_id": "2aa4f35baf564446b107f220b9e39edd",
       "version_major": 2,
       "version_minor": 0
      },
      "text/plain": [
       "Training:   0%|          | 0/10000 [00:00<?, ?it/s]"
      ]
     },
     "metadata": {},
     "output_type": "display_data"
    },
    {
     "name": "stdout",
     "output_type": "stream",
     "text": [
      "Epoch    1 | Train loss=0.2649, acc=0.5000 | Test loss=0.2583, acc=0.5000\n",
      "Epoch  100 | Train loss=0.2499, acc=0.5061 | Test loss=0.2504, acc=0.4726\n",
      "Epoch  200 | Train loss=0.2497, acc=0.5169 | Test loss=0.2504, acc=0.4726\n",
      "Epoch  300 | Train loss=0.2496, acc=0.5184 | Test loss=0.2503, acc=0.4848\n",
      "Epoch  400 | Train loss=0.2494, acc=0.5322 | Test loss=0.2502, acc=0.4848\n",
      "Epoch  500 | Train loss=0.2493, acc=0.5452 | Test loss=0.2501, acc=0.4726\n",
      "Epoch  600 | Train loss=0.2492, acc=0.5529 | Test loss=0.2501, acc=0.4756\n",
      "Epoch  700 | Train loss=0.2490, acc=0.5552 | Test loss=0.2500, acc=0.4909\n",
      "Epoch  800 | Train loss=0.2489, acc=0.5544 | Test loss=0.2499, acc=0.4939\n",
      "Epoch  900 | Train loss=0.2488, acc=0.5544 | Test loss=0.2498, acc=0.4939\n",
      "Epoch 1000 | Train loss=0.2487, acc=0.5567 | Test loss=0.2498, acc=0.5061\n",
      "Epoch 1100 | Train loss=0.2485, acc=0.5644 | Test loss=0.2497, acc=0.5091\n",
      "Epoch 1200 | Train loss=0.2484, acc=0.5660 | Test loss=0.2496, acc=0.5122\n",
      "Epoch 1300 | Train loss=0.2483, acc=0.5660 | Test loss=0.2495, acc=0.5122\n",
      "Epoch 1400 | Train loss=0.2481, acc=0.5652 | Test loss=0.2494, acc=0.5213\n",
      "Epoch 1500 | Train loss=0.2480, acc=0.5652 | Test loss=0.2494, acc=0.5183\n",
      "Epoch 1600 | Train loss=0.2479, acc=0.5675 | Test loss=0.2493, acc=0.5244\n",
      "Epoch 1700 | Train loss=0.2478, acc=0.5675 | Test loss=0.2492, acc=0.5244\n",
      "Epoch 1800 | Train loss=0.2476, acc=0.5698 | Test loss=0.2491, acc=0.5274\n",
      "Epoch 1900 | Train loss=0.2475, acc=0.5698 | Test loss=0.2490, acc=0.5244\n",
      "Epoch 2000 | Train loss=0.2474, acc=0.5729 | Test loss=0.2490, acc=0.5274\n",
      "Epoch 2100 | Train loss=0.2472, acc=0.5736 | Test loss=0.2489, acc=0.5305\n",
      "Epoch 2200 | Train loss=0.2471, acc=0.5752 | Test loss=0.2488, acc=0.5335\n",
      "Epoch 2300 | Train loss=0.2470, acc=0.5752 | Test loss=0.2487, acc=0.5335\n",
      "Epoch 2400 | Train loss=0.2469, acc=0.5782 | Test loss=0.2486, acc=0.5335\n",
      "Epoch 2500 | Train loss=0.2467, acc=0.5790 | Test loss=0.2485, acc=0.5335\n",
      "Epoch 2600 | Train loss=0.2466, acc=0.5828 | Test loss=0.2484, acc=0.5335\n",
      "Epoch 2700 | Train loss=0.2465, acc=0.5836 | Test loss=0.2484, acc=0.5335\n",
      "Epoch 2800 | Train loss=0.2464, acc=0.5851 | Test loss=0.2483, acc=0.5366\n",
      "Epoch 2900 | Train loss=0.2463, acc=0.5859 | Test loss=0.2482, acc=0.5396\n",
      "Epoch 3000 | Train loss=0.2461, acc=0.5897 | Test loss=0.2481, acc=0.5396\n",
      "Epoch 3100 | Train loss=0.2460, acc=0.5913 | Test loss=0.2480, acc=0.5396\n",
      "Epoch 3200 | Train loss=0.2459, acc=0.5928 | Test loss=0.2479, acc=0.5396\n",
      "Epoch 3300 | Train loss=0.2458, acc=0.5959 | Test loss=0.2478, acc=0.5396\n",
      "Epoch 3400 | Train loss=0.2456, acc=0.5974 | Test loss=0.2477, acc=0.5396\n",
      "Epoch 3500 | Train loss=0.2455, acc=0.5974 | Test loss=0.2476, acc=0.5396\n",
      "Epoch 3600 | Train loss=0.2454, acc=0.6020 | Test loss=0.2476, acc=0.5457\n",
      "Epoch 3700 | Train loss=0.2453, acc=0.6005 | Test loss=0.2475, acc=0.5457\n",
      "Epoch 3800 | Train loss=0.2452, acc=0.6012 | Test loss=0.2474, acc=0.5518\n",
      "Epoch 3900 | Train loss=0.2450, acc=0.6020 | Test loss=0.2473, acc=0.5518\n",
      "Epoch 4000 | Train loss=0.2449, acc=0.6043 | Test loss=0.2472, acc=0.5488\n",
      "Epoch 4100 | Train loss=0.2448, acc=0.6066 | Test loss=0.2471, acc=0.5518\n",
      "Epoch 4200 | Train loss=0.2447, acc=0.6081 | Test loss=0.2470, acc=0.5549\n",
      "Epoch 4300 | Train loss=0.2446, acc=0.6097 | Test loss=0.2469, acc=0.5579\n",
      "Epoch 4400 | Train loss=0.2445, acc=0.6089 | Test loss=0.2468, acc=0.5579\n",
      "Epoch 4500 | Train loss=0.2443, acc=0.6127 | Test loss=0.2467, acc=0.5610\n",
      "Epoch 4600 | Train loss=0.2442, acc=0.6150 | Test loss=0.2467, acc=0.5640\n",
      "Epoch 4700 | Train loss=0.2441, acc=0.6173 | Test loss=0.2466, acc=0.5701\n",
      "Epoch 4800 | Train loss=0.2440, acc=0.6181 | Test loss=0.2465, acc=0.5732\n",
      "Epoch 4900 | Train loss=0.2439, acc=0.6219 | Test loss=0.2464, acc=0.5762\n",
      "Epoch 5000 | Train loss=0.2437, acc=0.6242 | Test loss=0.2463, acc=0.5793\n",
      "Epoch 5100 | Train loss=0.2436, acc=0.6265 | Test loss=0.2462, acc=0.5793\n",
      "Epoch 5200 | Train loss=0.2435, acc=0.6311 | Test loss=0.2461, acc=0.5793\n",
      "Epoch 5300 | Train loss=0.2434, acc=0.6334 | Test loss=0.2460, acc=0.5793\n",
      "Epoch 5400 | Train loss=0.2433, acc=0.6365 | Test loss=0.2459, acc=0.5793\n",
      "Epoch 5500 | Train loss=0.2432, acc=0.6411 | Test loss=0.2458, acc=0.5793\n",
      "Epoch 5600 | Train loss=0.2430, acc=0.6426 | Test loss=0.2457, acc=0.5823\n",
      "Epoch 5700 | Train loss=0.2429, acc=0.6434 | Test loss=0.2456, acc=0.5884\n",
      "Epoch 5800 | Train loss=0.2428, acc=0.6434 | Test loss=0.2456, acc=0.5945\n",
      "Epoch 5900 | Train loss=0.2427, acc=0.6449 | Test loss=0.2455, acc=0.5976\n",
      "Epoch 6000 | Train loss=0.2426, acc=0.6457 | Test loss=0.2454, acc=0.6037\n",
      "Epoch 6100 | Train loss=0.2425, acc=0.6472 | Test loss=0.2453, acc=0.6037\n",
      "Epoch 6200 | Train loss=0.2424, acc=0.6488 | Test loss=0.2452, acc=0.6037\n",
      "Epoch 6300 | Train loss=0.2422, acc=0.6503 | Test loss=0.2451, acc=0.6067\n",
      "Epoch 6400 | Train loss=0.2421, acc=0.6495 | Test loss=0.2450, acc=0.6067\n",
      "Epoch 6500 | Train loss=0.2420, acc=0.6511 | Test loss=0.2449, acc=0.6098\n",
      "Epoch 6600 | Train loss=0.2419, acc=0.6518 | Test loss=0.2448, acc=0.6067\n",
      "Epoch 6700 | Train loss=0.2418, acc=0.6526 | Test loss=0.2447, acc=0.6067\n",
      "Epoch 6800 | Train loss=0.2417, acc=0.6534 | Test loss=0.2446, acc=0.6067\n",
      "Epoch 6900 | Train loss=0.2416, acc=0.6534 | Test loss=0.2446, acc=0.6067\n",
      "Epoch 7000 | Train loss=0.2415, acc=0.6557 | Test loss=0.2445, acc=0.6098\n",
      "Epoch 7100 | Train loss=0.2413, acc=0.6564 | Test loss=0.2444, acc=0.6098\n",
      "Epoch 7200 | Train loss=0.2412, acc=0.6572 | Test loss=0.2443, acc=0.6128\n",
      "Epoch 7300 | Train loss=0.2411, acc=0.6595 | Test loss=0.2442, acc=0.6128\n",
      "Epoch 7400 | Train loss=0.2410, acc=0.6633 | Test loss=0.2441, acc=0.6128\n",
      "Epoch 7500 | Train loss=0.2409, acc=0.6641 | Test loss=0.2440, acc=0.6159\n",
      "Epoch 7600 | Train loss=0.2408, acc=0.6664 | Test loss=0.2439, acc=0.6189\n",
      "Epoch 7700 | Train loss=0.2407, acc=0.6695 | Test loss=0.2438, acc=0.6189\n",
      "Epoch 7800 | Train loss=0.2406, acc=0.6702 | Test loss=0.2437, acc=0.6189\n",
      "Epoch 7900 | Train loss=0.2405, acc=0.6702 | Test loss=0.2436, acc=0.6220\n",
      "Epoch 8000 | Train loss=0.2403, acc=0.6718 | Test loss=0.2436, acc=0.6220\n",
      "Epoch 8100 | Train loss=0.2402, acc=0.6733 | Test loss=0.2435, acc=0.6189\n",
      "Epoch 8200 | Train loss=0.2401, acc=0.6741 | Test loss=0.2434, acc=0.6220\n",
      "Epoch 8300 | Train loss=0.2400, acc=0.6748 | Test loss=0.2433, acc=0.6280\n",
      "Epoch 8400 | Train loss=0.2399, acc=0.6771 | Test loss=0.2432, acc=0.6280\n",
      "Epoch 8500 | Train loss=0.2398, acc=0.6779 | Test loss=0.2431, acc=0.6341\n",
      "Epoch 8600 | Train loss=0.2397, acc=0.6810 | Test loss=0.2430, acc=0.6372\n",
      "Epoch 8700 | Train loss=0.2396, acc=0.6810 | Test loss=0.2429, acc=0.6402\n",
      "Epoch 8800 | Train loss=0.2395, acc=0.6817 | Test loss=0.2428, acc=0.6433\n",
      "Epoch 8900 | Train loss=0.2394, acc=0.6825 | Test loss=0.2428, acc=0.6433\n",
      "Epoch 9000 | Train loss=0.2393, acc=0.6825 | Test loss=0.2427, acc=0.6433\n",
      "Epoch 9100 | Train loss=0.2391, acc=0.6856 | Test loss=0.2426, acc=0.6433\n",
      "Epoch 9200 | Train loss=0.2390, acc=0.6848 | Test loss=0.2425, acc=0.6433\n",
      "Epoch 9300 | Train loss=0.2389, acc=0.6856 | Test loss=0.2424, acc=0.6433\n",
      "Epoch 9400 | Train loss=0.2388, acc=0.6848 | Test loss=0.2423, acc=0.6433\n",
      "Epoch 9500 | Train loss=0.2387, acc=0.6863 | Test loss=0.2422, acc=0.6463\n",
      "Epoch 9600 | Train loss=0.2386, acc=0.6879 | Test loss=0.2421, acc=0.6463\n",
      "Epoch 9700 | Train loss=0.2385, acc=0.6887 | Test loss=0.2421, acc=0.6463\n",
      "Epoch 9800 | Train loss=0.2384, acc=0.6902 | Test loss=0.2420, acc=0.6463\n",
      "Epoch 9900 | Train loss=0.2383, acc=0.6910 | Test loss=0.2419, acc=0.6494\n",
      "Epoch 10000 | Train loss=0.2382, acc=0.6917 | Test loss=0.2418, acc=0.6494\n",
      "Size =  32 → Test MSE = 0.2418 | Acc Test = 0.6494 | Train MSE = 0.2382 | Acc Train = 0.6917\n"
     ]
    },
    {
     "data": {
      "application/vnd.jupyter.widget-view+json": {
       "model_id": "03aa8a1f445f448aa1674a4320cfce7f",
       "version_major": 2,
       "version_minor": 0
      },
      "text/plain": [
       "Training:   0%|          | 0/10000 [00:00<?, ?it/s]"
      ]
     },
     "metadata": {},
     "output_type": "display_data"
    },
    {
     "name": "stdout",
     "output_type": "stream",
     "text": [
      "Epoch    1 | Train loss=0.3142, acc=0.5000 | Test loss=0.2510, acc=0.4970\n",
      "Epoch  100 | Train loss=0.2500, acc=0.5115 | Test loss=0.2500, acc=0.4878\n",
      "Epoch  200 | Train loss=0.2492, acc=0.5383 | Test loss=0.2496, acc=0.5091\n",
      "Epoch  300 | Train loss=0.2484, acc=0.5521 | Test loss=0.2492, acc=0.5244\n",
      "Epoch  400 | Train loss=0.2477, acc=0.5706 | Test loss=0.2487, acc=0.5244\n",
      "Epoch  500 | Train loss=0.2469, acc=0.5775 | Test loss=0.2483, acc=0.5213\n",
      "Epoch  600 | Train loss=0.2462, acc=0.5928 | Test loss=0.2478, acc=0.5335\n",
      "Epoch  700 | Train loss=0.2454, acc=0.6028 | Test loss=0.2473, acc=0.5427\n",
      "Epoch  800 | Train loss=0.2447, acc=0.6127 | Test loss=0.2469, acc=0.5457\n",
      "Epoch  900 | Train loss=0.2440, acc=0.6219 | Test loss=0.2464, acc=0.5579\n",
      "Epoch 1000 | Train loss=0.2433, acc=0.6281 | Test loss=0.2459, acc=0.5701\n",
      "Epoch 1100 | Train loss=0.2426, acc=0.6350 | Test loss=0.2455, acc=0.5793\n",
      "Epoch 1200 | Train loss=0.2419, acc=0.6472 | Test loss=0.2450, acc=0.5915\n",
      "Epoch 1300 | Train loss=0.2412, acc=0.6503 | Test loss=0.2445, acc=0.6067\n",
      "Epoch 1400 | Train loss=0.2405, acc=0.6595 | Test loss=0.2440, acc=0.6098\n",
      "Epoch 1500 | Train loss=0.2398, acc=0.6679 | Test loss=0.2435, acc=0.6189\n",
      "Epoch 1600 | Train loss=0.2391, acc=0.6733 | Test loss=0.2431, acc=0.6280\n",
      "Epoch 1700 | Train loss=0.2385, acc=0.6848 | Test loss=0.2426, acc=0.6341\n",
      "Epoch 1800 | Train loss=0.2378, acc=0.6910 | Test loss=0.2421, acc=0.6433\n",
      "Epoch 1900 | Train loss=0.2372, acc=0.6986 | Test loss=0.2416, acc=0.6555\n",
      "Epoch 2000 | Train loss=0.2365, acc=0.7040 | Test loss=0.2412, acc=0.6616\n",
      "Epoch 2100 | Train loss=0.2359, acc=0.7071 | Test loss=0.2407, acc=0.6646\n",
      "Epoch 2200 | Train loss=0.2352, acc=0.7101 | Test loss=0.2403, acc=0.6707\n",
      "Epoch 2300 | Train loss=0.2346, acc=0.7163 | Test loss=0.2398, acc=0.6738\n",
      "Epoch 2400 | Train loss=0.2340, acc=0.7209 | Test loss=0.2393, acc=0.6768\n",
      "Epoch 2500 | Train loss=0.2334, acc=0.7293 | Test loss=0.2389, acc=0.6799\n",
      "Epoch 2600 | Train loss=0.2327, acc=0.7324 | Test loss=0.2385, acc=0.6860\n",
      "Epoch 2700 | Train loss=0.2321, acc=0.7377 | Test loss=0.2380, acc=0.7012\n",
      "Epoch 2800 | Train loss=0.2315, acc=0.7439 | Test loss=0.2376, acc=0.7012\n",
      "Epoch 2900 | Train loss=0.2309, acc=0.7469 | Test loss=0.2371, acc=0.7073\n",
      "Epoch 3000 | Train loss=0.2303, acc=0.7523 | Test loss=0.2367, acc=0.7073\n",
      "Epoch 3100 | Train loss=0.2298, acc=0.7515 | Test loss=0.2363, acc=0.7073\n",
      "Epoch 3200 | Train loss=0.2292, acc=0.7538 | Test loss=0.2359, acc=0.7134\n",
      "Epoch 3300 | Train loss=0.2286, acc=0.7561 | Test loss=0.2354, acc=0.7165\n",
      "Epoch 3400 | Train loss=0.2280, acc=0.7607 | Test loss=0.2350, acc=0.7226\n",
      "Epoch 3500 | Train loss=0.2275, acc=0.7615 | Test loss=0.2346, acc=0.7317\n",
      "Epoch 3600 | Train loss=0.2269, acc=0.7646 | Test loss=0.2342, acc=0.7348\n",
      "Epoch 3700 | Train loss=0.2264, acc=0.7638 | Test loss=0.2338, acc=0.7348\n",
      "Epoch 3800 | Train loss=0.2258, acc=0.7653 | Test loss=0.2334, acc=0.7348\n",
      "Epoch 3900 | Train loss=0.2253, acc=0.7669 | Test loss=0.2330, acc=0.7348\n",
      "Epoch 4000 | Train loss=0.2247, acc=0.7684 | Test loss=0.2326, acc=0.7530\n",
      "Epoch 4100 | Train loss=0.2242, acc=0.7684 | Test loss=0.2322, acc=0.7561\n",
      "Epoch 4200 | Train loss=0.2236, acc=0.7722 | Test loss=0.2318, acc=0.7561\n",
      "Epoch 4300 | Train loss=0.2231, acc=0.7745 | Test loss=0.2315, acc=0.7561\n",
      "Epoch 4400 | Train loss=0.2226, acc=0.7768 | Test loss=0.2311, acc=0.7530\n",
      "Epoch 4500 | Train loss=0.2221, acc=0.7799 | Test loss=0.2307, acc=0.7470\n",
      "Epoch 4600 | Train loss=0.2216, acc=0.7807 | Test loss=0.2303, acc=0.7500\n",
      "Epoch 4700 | Train loss=0.2211, acc=0.7830 | Test loss=0.2300, acc=0.7530\n",
      "Epoch 4800 | Train loss=0.2206, acc=0.7853 | Test loss=0.2296, acc=0.7530\n",
      "Epoch 4900 | Train loss=0.2201, acc=0.7868 | Test loss=0.2292, acc=0.7500\n",
      "Epoch 5000 | Train loss=0.2196, acc=0.7868 | Test loss=0.2289, acc=0.7470\n",
      "Epoch 5100 | Train loss=0.2191, acc=0.7883 | Test loss=0.2285, acc=0.7500\n",
      "Epoch 5200 | Train loss=0.2186, acc=0.7899 | Test loss=0.2282, acc=0.7500\n",
      "Epoch 5300 | Train loss=0.2181, acc=0.7899 | Test loss=0.2278, acc=0.7500\n",
      "Epoch 5400 | Train loss=0.2176, acc=0.7883 | Test loss=0.2275, acc=0.7500\n",
      "Epoch 5500 | Train loss=0.2171, acc=0.7891 | Test loss=0.2271, acc=0.7530\n",
      "Epoch 5600 | Train loss=0.2167, acc=0.7922 | Test loss=0.2268, acc=0.7530\n",
      "Epoch 5700 | Train loss=0.2162, acc=0.7937 | Test loss=0.2265, acc=0.7530\n",
      "Epoch 5800 | Train loss=0.2157, acc=0.7945 | Test loss=0.2261, acc=0.7530\n",
      "Epoch 5900 | Train loss=0.2153, acc=0.7968 | Test loss=0.2258, acc=0.7530\n",
      "Epoch 6000 | Train loss=0.2148, acc=0.7991 | Test loss=0.2255, acc=0.7530\n",
      "Epoch 6100 | Train loss=0.2144, acc=0.7998 | Test loss=0.2251, acc=0.7530\n",
      "Epoch 6200 | Train loss=0.2139, acc=0.8014 | Test loss=0.2248, acc=0.7530\n",
      "Epoch 6300 | Train loss=0.2135, acc=0.8021 | Test loss=0.2245, acc=0.7530\n",
      "Epoch 6400 | Train loss=0.2130, acc=0.8037 | Test loss=0.2242, acc=0.7530\n",
      "Epoch 6500 | Train loss=0.2126, acc=0.8037 | Test loss=0.2239, acc=0.7561\n",
      "Epoch 6600 | Train loss=0.2122, acc=0.8044 | Test loss=0.2236, acc=0.7561\n",
      "Epoch 6700 | Train loss=0.2117, acc=0.8044 | Test loss=0.2232, acc=0.7561\n",
      "Epoch 6800 | Train loss=0.2113, acc=0.8044 | Test loss=0.2229, acc=0.7561\n",
      "Epoch 6900 | Train loss=0.2109, acc=0.8044 | Test loss=0.2226, acc=0.7591\n",
      "Epoch 7000 | Train loss=0.2105, acc=0.8075 | Test loss=0.2223, acc=0.7591\n",
      "Epoch 7100 | Train loss=0.2100, acc=0.8083 | Test loss=0.2220, acc=0.7591\n",
      "Epoch 7200 | Train loss=0.2096, acc=0.8106 | Test loss=0.2217, acc=0.7591\n",
      "Epoch 7300 | Train loss=0.2092, acc=0.8106 | Test loss=0.2214, acc=0.7591\n",
      "Epoch 7400 | Train loss=0.2088, acc=0.8106 | Test loss=0.2211, acc=0.7591\n",
      "Epoch 7500 | Train loss=0.2084, acc=0.8113 | Test loss=0.2209, acc=0.7591\n",
      "Epoch 7600 | Train loss=0.2080, acc=0.8106 | Test loss=0.2206, acc=0.7591\n",
      "Epoch 7700 | Train loss=0.2076, acc=0.8090 | Test loss=0.2203, acc=0.7561\n",
      "Epoch 7800 | Train loss=0.2072, acc=0.8083 | Test loss=0.2200, acc=0.7561\n",
      "Epoch 7900 | Train loss=0.2068, acc=0.8083 | Test loss=0.2197, acc=0.7561\n",
      "Epoch 8000 | Train loss=0.2064, acc=0.8090 | Test loss=0.2194, acc=0.7530\n",
      "Epoch 8100 | Train loss=0.2060, acc=0.8090 | Test loss=0.2192, acc=0.7530\n",
      "Epoch 8200 | Train loss=0.2056, acc=0.8090 | Test loss=0.2189, acc=0.7530\n",
      "Epoch 8300 | Train loss=0.2053, acc=0.8090 | Test loss=0.2186, acc=0.7530\n",
      "Epoch 8400 | Train loss=0.2049, acc=0.8098 | Test loss=0.2183, acc=0.7530\n",
      "Epoch 8500 | Train loss=0.2045, acc=0.8098 | Test loss=0.2181, acc=0.7530\n",
      "Epoch 8600 | Train loss=0.2041, acc=0.8098 | Test loss=0.2178, acc=0.7530\n",
      "Epoch 8700 | Train loss=0.2038, acc=0.8098 | Test loss=0.2175, acc=0.7530\n",
      "Epoch 8800 | Train loss=0.2034, acc=0.8113 | Test loss=0.2173, acc=0.7530\n",
      "Epoch 8900 | Train loss=0.2030, acc=0.8113 | Test loss=0.2170, acc=0.7530\n",
      "Epoch 9000 | Train loss=0.2027, acc=0.8129 | Test loss=0.2168, acc=0.7530\n",
      "Epoch 9100 | Train loss=0.2023, acc=0.8129 | Test loss=0.2165, acc=0.7530\n",
      "Epoch 9200 | Train loss=0.2019, acc=0.8144 | Test loss=0.2163, acc=0.7530\n",
      "Epoch 9300 | Train loss=0.2016, acc=0.8160 | Test loss=0.2160, acc=0.7561\n",
      "Epoch 9400 | Train loss=0.2012, acc=0.8175 | Test loss=0.2158, acc=0.7561\n",
      "Epoch 9500 | Train loss=0.2009, acc=0.8175 | Test loss=0.2155, acc=0.7530\n",
      "Epoch 9600 | Train loss=0.2005, acc=0.8175 | Test loss=0.2153, acc=0.7530\n",
      "Epoch 9700 | Train loss=0.2002, acc=0.8175 | Test loss=0.2150, acc=0.7530\n",
      "Epoch 9800 | Train loss=0.1998, acc=0.8183 | Test loss=0.2148, acc=0.7500\n",
      "Epoch 9900 | Train loss=0.1995, acc=0.8198 | Test loss=0.2145, acc=0.7500\n",
      "Epoch 10000 | Train loss=0.1991, acc=0.8198 | Test loss=0.2143, acc=0.7500\n",
      "Size =  64 → Test MSE = 0.2143 | Acc Test = 0.7500 | Train MSE = 0.1991 | Acc Train = 0.8198\n"
     ]
    },
    {
     "data": {
      "application/vnd.jupyter.widget-view+json": {
       "model_id": "e8431a3466a3448098a2920e42721de6",
       "version_major": 2,
       "version_minor": 0
      },
      "text/plain": [
       "Training:   0%|          | 0/10000 [00:00<?, ?it/s]"
      ]
     },
     "metadata": {},
     "output_type": "display_data"
    },
    {
     "name": "stdout",
     "output_type": "stream",
     "text": [
      "Epoch    1 | Train loss=0.2559, acc=0.5077 | Test loss=0.3112, acc=0.5000\n",
      "Epoch  100 | Train loss=0.3654, acc=0.5000 | Test loss=0.3998, acc=0.5000\n",
      "Epoch  200 | Train loss=0.4085, acc=0.5000 | Test loss=0.3054, acc=0.5000\n",
      "Epoch  300 | Train loss=0.2481, acc=0.5613 | Test loss=0.2969, acc=0.5030\n",
      "Epoch  400 | Train loss=0.2713, acc=0.5054 | Test loss=0.4313, acc=0.5000\n",
      "Epoch  500 | Train loss=0.2891, acc=0.5008 | Test loss=0.4508, acc=0.5000\n",
      "Epoch  600 | Train loss=0.4487, acc=0.5000 | Test loss=0.3153, acc=0.5000\n",
      "Epoch  700 | Train loss=0.4475, acc=0.5000 | Test loss=0.3105, acc=0.5000\n",
      "Epoch  800 | Train loss=0.4242, acc=0.5000 | Test loss=0.2541, acc=0.5488\n",
      "Epoch  900 | Train loss=0.3006, acc=0.5008 | Test loss=0.4497, acc=0.5000\n",
      "Epoch 1000 | Train loss=0.2749, acc=0.5084 | Test loss=0.4456, acc=0.5000\n",
      "Epoch 1100 | Train loss=0.4484, acc=0.5000 | Test loss=0.2905, acc=0.5030\n",
      "Epoch 1200 | Train loss=0.4435, acc=0.5000 | Test loss=0.2943, acc=0.5000\n",
      "Epoch 1300 | Train loss=0.4479, acc=0.5000 | Test loss=0.2878, acc=0.5030\n",
      "Epoch 1400 | Train loss=0.4451, acc=0.5000 | Test loss=0.3015, acc=0.5000\n",
      "Epoch 1500 | Train loss=0.2280, acc=0.6212 | Test loss=0.2590, acc=0.5488\n",
      "Epoch 1600 | Train loss=0.2565, acc=0.5169 | Test loss=0.4315, acc=0.5000\n",
      "Epoch 1700 | Train loss=0.4538, acc=0.5000 | Test loss=0.3456, acc=0.5000\n",
      "Epoch 1800 | Train loss=0.2228, acc=0.6334 | Test loss=0.2562, acc=0.5457\n",
      "Epoch 1900 | Train loss=0.3298, acc=0.5008 | Test loss=0.4364, acc=0.5000\n",
      "Epoch 2000 | Train loss=0.3344, acc=0.5008 | Test loss=0.4323, acc=0.5000\n",
      "Epoch 2100 | Train loss=0.2943, acc=0.5038 | Test loss=0.4537, acc=0.5000\n",
      "Epoch 2200 | Train loss=0.2750, acc=0.5138 | Test loss=0.4562, acc=0.5000\n",
      "Epoch 2300 | Train loss=0.2812, acc=0.5123 | Test loss=0.4578, acc=0.5000\n",
      "Epoch 2400 | Train loss=0.4169, acc=0.5000 | Test loss=0.2475, acc=0.5701\n",
      "Epoch 2500 | Train loss=0.3116, acc=0.5023 | Test loss=0.4463, acc=0.5000\n",
      "Epoch 2600 | Train loss=0.4548, acc=0.5000 | Test loss=0.3516, acc=0.5000\n",
      "Epoch 2700 | Train loss=0.2738, acc=0.5100 | Test loss=0.4538, acc=0.5000\n",
      "Epoch 2800 | Train loss=0.3122, acc=0.5038 | Test loss=0.4455, acc=0.5000\n",
      "Epoch 2900 | Train loss=0.4207, acc=0.5000 | Test loss=0.2330, acc=0.6189\n",
      "Epoch 3000 | Train loss=0.2529, acc=0.5337 | Test loss=0.4483, acc=0.5000\n",
      "Epoch 3100 | Train loss=0.3183, acc=0.5038 | Test loss=0.4405, acc=0.5000\n",
      "Epoch 3200 | Train loss=0.3368, acc=0.5023 | Test loss=0.4343, acc=0.5000\n",
      "Epoch 3300 | Train loss=0.4194, acc=0.5000 | Test loss=0.2292, acc=0.6372\n",
      "Epoch 3400 | Train loss=0.2124, acc=0.6779 | Test loss=0.3630, acc=0.5030\n",
      "Epoch 3500 | Train loss=0.4130, acc=0.5000 | Test loss=0.2258, acc=0.6098\n",
      "Epoch 3600 | Train loss=0.2032, acc=0.7232 | Test loss=0.3008, acc=0.5061\n",
      "Epoch 3700 | Train loss=0.2686, acc=0.5146 | Test loss=0.4555, acc=0.5000\n",
      "Epoch 3800 | Train loss=0.3270, acc=0.5038 | Test loss=0.4297, acc=0.5000\n",
      "Epoch 3900 | Train loss=0.1998, acc=0.7362 | Test loss=0.3015, acc=0.5061\n",
      "Epoch 4000 | Train loss=0.4420, acc=0.5000 | Test loss=0.2612, acc=0.5305\n",
      "Epoch 4100 | Train loss=0.4520, acc=0.5000 | Test loss=0.3370, acc=0.5030\n",
      "Epoch 4200 | Train loss=0.4485, acc=0.5000 | Test loss=0.2967, acc=0.5091\n",
      "Epoch 4300 | Train loss=0.1961, acc=0.6910 | Test loss=0.3063, acc=0.5122\n",
      "Epoch 4400 | Train loss=0.1957, acc=0.6910 | Test loss=0.3141, acc=0.5122\n",
      "Epoch 4500 | Train loss=0.3038, acc=0.5069 | Test loss=0.4463, acc=0.5000\n",
      "Epoch 4600 | Train loss=0.1957, acc=0.7232 | Test loss=0.3362, acc=0.5030\n",
      "Epoch 4700 | Train loss=0.4031, acc=0.5000 | Test loss=0.2298, acc=0.5945\n",
      "Epoch 4800 | Train loss=0.4490, acc=0.5000 | Test loss=0.3189, acc=0.5122\n",
      "Epoch 4900 | Train loss=0.3066, acc=0.5084 | Test loss=0.4422, acc=0.5000\n",
      "Epoch 5000 | Train loss=0.2200, acc=0.5974 | Test loss=0.4327, acc=0.5000\n",
      "Epoch 5100 | Train loss=0.4445, acc=0.5000 | Test loss=0.2777, acc=0.5152\n",
      "Epoch 5200 | Train loss=0.3739, acc=0.5015 | Test loss=0.3342, acc=0.5122\n",
      "Epoch 5300 | Train loss=0.2365, acc=0.5690 | Test loss=0.4476, acc=0.5000\n",
      "Epoch 5400 | Train loss=0.3991, acc=0.5015 | Test loss=0.2460, acc=0.5610\n",
      "Epoch 5500 | Train loss=0.2754, acc=0.5245 | Test loss=0.4513, acc=0.5000\n",
      "Epoch 5600 | Train loss=0.4325, acc=0.5000 | Test loss=0.2268, acc=0.5976\n",
      "Epoch 5700 | Train loss=0.2429, acc=0.5575 | Test loss=0.4493, acc=0.5000\n",
      "Epoch 5800 | Train loss=0.4234, acc=0.5000 | Test loss=0.2138, acc=0.6524\n",
      "Epoch 5900 | Train loss=0.1809, acc=0.7661 | Test loss=0.2880, acc=0.5122\n",
      "Epoch 6000 | Train loss=0.2323, acc=0.5851 | Test loss=0.4436, acc=0.5000\n",
      "Epoch 6100 | Train loss=0.2290, acc=0.5905 | Test loss=0.4420, acc=0.5000\n",
      "Epoch 6200 | Train loss=0.2633, acc=0.5399 | Test loss=0.4501, acc=0.5000\n",
      "Epoch 6300 | Train loss=0.3133, acc=0.5130 | Test loss=0.4247, acc=0.5000\n",
      "Epoch 6400 | Train loss=0.3586, acc=0.5069 | Test loss=0.3543, acc=0.5122\n",
      "Epoch 6500 | Train loss=0.4385, acc=0.5000 | Test loss=0.2536, acc=0.5427\n",
      "Epoch 6600 | Train loss=0.4112, acc=0.5015 | Test loss=0.2012, acc=0.7134\n",
      "Epoch 6700 | Train loss=0.3694, acc=0.5061 | Test loss=0.3041, acc=0.5091\n",
      "Epoch 6800 | Train loss=0.2196, acc=0.6043 | Test loss=0.4366, acc=0.5000\n",
      "Epoch 6900 | Train loss=0.1824, acc=0.7124 | Test loss=0.3568, acc=0.5061\n",
      "Epoch 7000 | Train loss=0.2233, acc=0.6035 | Test loss=0.4403, acc=0.5000\n",
      "Epoch 7100 | Train loss=0.4176, acc=0.5015 | Test loss=0.1957, acc=0.7378\n",
      "Epoch 7200 | Train loss=0.1833, acc=0.7055 | Test loss=0.3700, acc=0.5030\n"
     ]
    },
    {
     "ename": "KeyboardInterrupt",
     "evalue": "",
     "output_type": "error",
     "traceback": [
      "\u001b[0;31m---------------------------------------------------------------------------\u001b[0m",
      "\u001b[0;31mKeyboardInterrupt\u001b[0m                         Traceback (most recent call last)",
      "\u001b[0;32m/var/folders/js/wm_vh0qd7pb_412bl_804n4r0000gn/T/ipykernel_28851/4174267193.py\u001b[0m in \u001b[0;36m<module>\u001b[0;34m\u001b[0m\n\u001b[1;32m     30\u001b[0m     \u001b[0mX_test\u001b[0m\u001b[0;34m,\u001b[0m  \u001b[0my_test\u001b[0m  \u001b[0;34m=\u001b[0m \u001b[0mdatasets\u001b[0m\u001b[0;34m[\u001b[0m\u001b[0;34m\"Test\"\u001b[0m\u001b[0;34m]\u001b[0m\u001b[0;34m\u001b[0m\u001b[0;34m\u001b[0m\u001b[0m\n\u001b[1;32m     31\u001b[0m \u001b[0;34m\u001b[0m\u001b[0m\n\u001b[0;32m---> 32\u001b[0;31m     w, b, loss_history_train, acc_history_train, loss_history_test, acc_history_test = train_model(\n\u001b[0m\u001b[1;32m     33\u001b[0m         \u001b[0mX_train\u001b[0m\u001b[0;34m,\u001b[0m \u001b[0my_train\u001b[0m\u001b[0;34m,\u001b[0m \u001b[0mX_test\u001b[0m\u001b[0;34m,\u001b[0m \u001b[0my_test\u001b[0m\u001b[0;34m,\u001b[0m \u001b[0malpha\u001b[0m\u001b[0;34m=\u001b[0m\u001b[0mbest_alpha\u001b[0m\u001b[0;34m,\u001b[0m \u001b[0mmax_epochs\u001b[0m\u001b[0;34m=\u001b[0m\u001b[0;36m10000\u001b[0m\u001b[0;34m\u001b[0m\u001b[0;34m\u001b[0m\u001b[0m\n\u001b[1;32m     34\u001b[0m     )\n",
      "\u001b[0;32m/var/folders/js/wm_vh0qd7pb_412bl_804n4r0000gn/T/ipykernel_28851/1916098362.py\u001b[0m in \u001b[0;36mtrain_model\u001b[0;34m(X_train, y_train, X_test, y_test, seed, alpha, max_epochs)\u001b[0m\n\u001b[1;32m     39\u001b[0m \u001b[0;34m\u001b[0m\u001b[0m\n\u001b[1;32m     40\u001b[0m         \u001b[0;31m# gradiente y actualización\u001b[0m\u001b[0;34m\u001b[0m\u001b[0;34m\u001b[0m\u001b[0m\n\u001b[0;32m---> 41\u001b[0;31m         \u001b[0mgrad_w\u001b[0m\u001b[0;34m,\u001b[0m \u001b[0mgrad_b\u001b[0m \u001b[0;34m=\u001b[0m \u001b[0mderivadas_parciales\u001b[0m\u001b[0;34m(\u001b[0m\u001b[0mX_train\u001b[0m\u001b[0;34m,\u001b[0m \u001b[0my_train\u001b[0m\u001b[0;34m,\u001b[0m \u001b[0mw\u001b[0m\u001b[0;34m,\u001b[0m \u001b[0mb\u001b[0m\u001b[0;34m)\u001b[0m\u001b[0;34m\u001b[0m\u001b[0;34m\u001b[0m\u001b[0m\n\u001b[0m\u001b[1;32m     42\u001b[0m         \u001b[0mw\u001b[0m \u001b[0;34m-=\u001b[0m \u001b[0malpha\u001b[0m \u001b[0;34m*\u001b[0m \u001b[0mgrad_w\u001b[0m\u001b[0;34m\u001b[0m\u001b[0;34m\u001b[0m\u001b[0m\n\u001b[1;32m     43\u001b[0m         \u001b[0mb\u001b[0m \u001b[0;34m-=\u001b[0m \u001b[0malpha\u001b[0m \u001b[0;34m*\u001b[0m \u001b[0mgrad_b\u001b[0m\u001b[0;34m\u001b[0m\u001b[0;34m\u001b[0m\u001b[0m\n",
      "\u001b[0;32m/var/folders/js/wm_vh0qd7pb_412bl_804n4r0000gn/T/ipykernel_28851/906289585.py\u001b[0m in \u001b[0;36mderivadas_parciales\u001b[0;34m(X, y, w, b)\u001b[0m\n\u001b[1;32m      6\u001b[0m \u001b[0;31m# Derivadas parciales de la función de pérdida L respecto a w y b\u001b[0m\u001b[0;34m\u001b[0m\u001b[0;34m\u001b[0m\u001b[0m\n\u001b[1;32m      7\u001b[0m \u001b[0;32mdef\u001b[0m \u001b[0mderivadas_parciales\u001b[0m\u001b[0;34m(\u001b[0m\u001b[0mX\u001b[0m\u001b[0;34m,\u001b[0m \u001b[0my\u001b[0m\u001b[0;34m,\u001b[0m \u001b[0mw\u001b[0m\u001b[0;34m,\u001b[0m \u001b[0mb\u001b[0m\u001b[0;34m)\u001b[0m\u001b[0;34m:\u001b[0m\u001b[0;34m\u001b[0m\u001b[0;34m\u001b[0m\u001b[0m\n\u001b[0;32m----> 8\u001b[0;31m     \u001b[0mt\u001b[0m \u001b[0;34m=\u001b[0m \u001b[0mnp\u001b[0m\u001b[0;34m.\u001b[0m\u001b[0mtanh\u001b[0m\u001b[0;34m(\u001b[0m\u001b[0mnp\u001b[0m\u001b[0;34m.\u001b[0m\u001b[0mdot\u001b[0m\u001b[0;34m(\u001b[0m\u001b[0mX\u001b[0m\u001b[0;34m,\u001b[0m \u001b[0mw\u001b[0m\u001b[0;34m)\u001b[0m \u001b[0;34m+\u001b[0m \u001b[0mb\u001b[0m\u001b[0;34m)\u001b[0m            \u001b[0;31m# activación\u001b[0m\u001b[0;34m\u001b[0m\u001b[0;34m\u001b[0m\u001b[0m\n\u001b[0m\u001b[1;32m      9\u001b[0m     \u001b[0mf\u001b[0m \u001b[0;34m=\u001b[0m \u001b[0mf_wb\u001b[0m\u001b[0;34m(\u001b[0m\u001b[0mX\u001b[0m\u001b[0;34m,\u001b[0m \u001b[0mw\u001b[0m\u001b[0;34m,\u001b[0m \u001b[0mb\u001b[0m\u001b[0;34m)\u001b[0m                        \u001b[0;31m# activación con tanh normalizada\u001b[0m\u001b[0;34m\u001b[0m\u001b[0;34m\u001b[0m\u001b[0m\n\u001b[1;32m     10\u001b[0m \u001b[0;34m\u001b[0m\u001b[0m\n",
      "\u001b[0;32m<__array_function__ internals>\u001b[0m in \u001b[0;36mdot\u001b[0;34m(*args, **kwargs)\u001b[0m\n",
      "\u001b[0;31mKeyboardInterrupt\u001b[0m: "
     ]
    }
   ],
   "source": [
    "from tqdm.auto import tqdm\n",
    "\n",
    "#EJERCICIO 5\n",
    "\n",
    "definitions = {\n",
    "    32: {\n",
    "        \"Train\": (X_train_32_n, y_train_32),\n",
    "        \"Test\":  (X_test_32_n,  y_test_32)\n",
    "    },\n",
    "    64: {\n",
    "        \"Train\": (X_train_n, y_train),\n",
    "        \"Test\":  (X_test_n,  y_test)\n",
    "    },\n",
    "    128: {\n",
    "        \"Train\": (X_train_128_n, y_train_128),\n",
    "        \"Test\":  (X_test_128_n,  y_test_128)\n",
    "    }\n",
    "}\n",
    "\n",
    "\n",
    "results_sizes_sweep = {}\n",
    "\n",
    "for size, datasets in tqdm(\n",
    "    definitions.items(),\n",
    "    desc=\"Tamaños\",\n",
    "    dynamic_ncols=True,\n",
    "    bar_format='{l_bar}{bar}| {n_fmt}/{total_fmt} [{remaining} restantes]'\n",
    "):\n",
    "    X_train, y_train = datasets[\"Train\"]\n",
    "    X_test,  y_test  = datasets[\"Test\"]\n",
    "\n",
    "    w, b, loss_history_train, acc_history_train, loss_history_test, acc_history_test = train_model(\n",
    "        X_train, y_train, X_test, y_test, alpha=best_alpha, max_epochs=10000\n",
    "    )\n",
    "\n",
    "    mse_test, acc_test = evaluate_model(X_test, y_test, w, b)\n",
    "    mse_train, acc_train = evaluate_model(X_train, y_train, w, b)\n",
    "\n",
    "    results_sizes_sweep[size] = {\n",
    "        'mse_test': mse_test,\n",
    "        'mse_train': mse_train,\n",
    "        'acc_train_final': acc_train,\n",
    "        'acc_test_final': acc_test,\n",
    "        'acc_train': acc_history_train,\n",
    "        'acc_test': acc_history_test,\n",
    "        'loss_train': loss_history_train,\n",
    "        'loss_test': loss_history_test,\n",
    "    }\n",
    "\n",
    "    print(f\"Size = {size:>3} → \"\n",
    "          f\"Test MSE = {mse_test:.4f} | Acc Test = {acc_test:.4f} | \"\n",
    "          f\"Train MSE = {mse_train:.4f} | Acc Train = {acc_train:.4f}\")\n"
   ]
  },
  {
   "cell_type": "code",
   "execution_count": null,
   "metadata": {},
   "outputs": [],
   "source": [
    "def plot_metrics_by_size(results_by_size):\n",
    "\n",
    "    sizes = sorted(results_by_size.keys())\n",
    "\n",
    "    acc_train = [results_by_size[s]['acc_train_final'] for s in sizes]\n",
    "    acc_test  = [results_by_size[s]['acc_test_final']  for s in sizes]\n",
    "    mse_train = [results_by_size[s]['mse_train'] for s in sizes]\n",
    "    mse_test  = [results_by_size[s]['mse_test']  for s in sizes]\n",
    "\n",
    "    # --- Accuracy ---\n",
    "    plt.figure(figsize=(8, 5))\n",
    "    plt.plot(sizes, acc_train, marker='o', label=\"Train Accuracy\")\n",
    "    plt.plot(sizes, acc_test, marker='o', linestyle='--', label=\"Test Accuracy\")\n",
    "    plt.title(\"Accuracy final según tamaño de imagen\", fontsize=16)\n",
    "    plt.xlabel(\"Tamaño de imagen\", fontsize=14)\n",
    "    plt.ylabel(\"Accuracy\", fontsize=14)\n",
    "    plt.xticks(sizes, fontsize=12)\n",
    "    plt.yticks(fontsize=12)\n",
    "    plt.grid(True)\n",
    "    plt.legend()\n",
    "    \n",
    "    # --- Pérdida (SSE) ---\n",
    "    plt.figure(figsize=(8, 5))\n",
    "    plt.plot(sizes, mse_train, marker='o', label=\"Train SSE\")\n",
    "    plt.plot(sizes, mse_test, marker='o', linestyle='--', label=\"Test SSE\")\n",
    "    plt.title(\"SSE final según tamaño de imagen\", fontsize=16)\n",
    "    plt.xlabel(\"Tamaño de imagen\", fontsize=14)\n",
    "    plt.ylabel(\"Sum of Squared Errors\", fontsize=14)\n",
    "    plt.xticks(sizes, fontsize=12)\n",
    "    plt.yticks(fontsize=12)\n",
    "    plt.grid(True)\n",
    "    plt.legend()\n",
    "    \n",
    "    plt.show()"
   ]
  },
  {
   "cell_type": "code",
   "execution_count": null,
   "metadata": {},
   "outputs": [],
   "source": [
    "plot_metrics_by_size(results_sizes_sweep)"
   ]
  },
  {
   "cell_type": "markdown",
   "metadata": {},
   "source": [
    "matriz de confusión"
   ]
  },
  {
   "cell_type": "code",
   "execution_count": 279,
   "metadata": {},
   "outputs": [],
   "source": [
    "def confusion_matrix(y_true, y_pred):\n",
    "    assert len(y_true) == len(y_pred)\n",
    "    \n",
    "    TP = np.sum((y_pred == 1) & (y_true == 1))\n",
    "    TN = np.sum((y_pred == 0) & (y_true == 0))\n",
    "    FP = np.sum((y_pred == 1) & (y_true == 0))\n",
    "    FN = np.sum((y_pred == 0) & (y_true == 1))\n",
    "    \n",
    "    return np.array([[TN, FP],\n",
    "                     [FN, TP]])\n",
    "\n",
    "def plot_confusion_matrix(cm, labels=[\"Healthy\", \"Parkinson\"], titulo=\"Matriz de Confusión\"):\n",
    "    fig, ax = plt.subplots()\n",
    "    im = ax.imshow(cm, cmap=\"Blues\")\n",
    "\n",
    "    ax.set_xticks([0, 1])\n",
    "    ax.set_yticks([0, 1])\n",
    "    ax.set_xticklabels(labels, fontsize=14)\n",
    "    ax.set_yticklabels(labels, fontsize=14)\n",
    "    ax.set_xlabel(\"Predicho\", fontsize=14)\n",
    "    ax.set_ylabel(\"Real\", fontsize=14)\n",
    "    ax.set_title(titulo, fontsize=16)\n",
    "\n",
    "    for i in range(2):\n",
    "        for j in range(2):\n",
    "            ax.text(j, i, str(cm[i, j]), ha=\"center\", va=\"center\", color=\"black\", fontsize=16)\n",
    "\n",
    "    plt.colorbar(im)\n",
    "    plt.show()\n",
    "\n"
   ]
  },
  {
   "cell_type": "code",
   "execution_count": 280,
   "metadata": {},
   "outputs": [],
   "source": [
    "def predecir(X, w, b):\n",
    "    fx = f_wb(X, w, b)\n",
    "    return (fx >= 0.5).astype(int)"
   ]
  },
  {
   "cell_type": "code",
   "execution_count": null,
   "metadata": {},
   "outputs": [
    {
     "data": {
      "image/png": "[encoded data removed]",
      "text/plain": [
       "<Figure size 640x480 with 2 Axes>"
      ]
     },
     "metadata": {},
     "output_type": "display_data"
    }
   ],
   "source": [
    "y_pred_train = predecir(X_train, w_final, b_final)\n",
    "cm_train = confusion_matrix(y_train, y_pred_train)\n",
    "\n",
    "plot_confusion_matrix(cm_train , titulo=\"Matriz de Confusión - Train\")"
   ]
  },
  {
   "cell_type": "code",
   "execution_count": null,
   "metadata": {},
   "outputs": [
    {
     "data": {
      "image/png": "[encoded data removed]",
      "text/plain": [
       "<Figure size 640x480 with 2 Axes>"
      ]
     },
     "metadata": {},
     "output_type": "display_data"
    }
   ],
   "source": [
    "y_pred_test = predecir(X_test, w_final, b_final)\n",
    "cm_test = confusion_matrix(y_test, y_pred_test)\n",
    "\n",
    "plot_confusion_matrix(cm_test, titulo=\"Matriz de Confusión - Test\")"
   ]
  }
 ],
 "metadata": {
  "kernelspec": {
   "display_name": "base",
   "language": "python",
   "name": "python3"
  },
  "language_info": {
   "codemirror_mode": {
    "name": "ipython",
    "version": 3
   },
   "file_extension": ".py",
   "mimetype": "text/x-python",
   "name": "python",
   "nbconvert_exporter": "python",
   "pygments_lexer": "ipython3",
   "version": "3.9.13"
  }
 },
 "nbformat": 4,
 "nbformat_minor": 2
}
