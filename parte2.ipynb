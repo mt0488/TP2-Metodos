{
 "cells": [
  {
   "cell_type": "markdown",
   "id": "0e179440",
   "metadata": {},
   "source": [
    "### Mateo Tejera - **`Segundo Trabajo Práctico`** - `Métodos Computacionales`"
   ]
  },
  {
   "cell_type": "markdown",
   "id": "6bd1443d",
   "metadata": {},
   "source": [
    "#### `Parte 2: Ascenso de Gradiente`"
   ]
  },
  {
   "cell_type": "code",
   "execution_count": 1,
   "id": "c98586aa",
   "metadata": {},
   "outputs": [],
   "source": [
    "%load_ext autoreload\n",
    "%autoreload 2"
   ]
  },
  {
   "cell_type": "markdown",
   "id": "377c9cd9",
   "metadata": {},
   "source": [
    "##### Imports"
   ]
  },
  {
   "cell_type": "code",
   "execution_count": null,
   "id": "bb81c767",
   "metadata": {},
   "outputs": [],
   "source": [
    "import numpy as np\n",
    "from tqdm.auto import tqdm"
   ]
  },
  {
   "cell_type": "markdown",
   "id": "a76685c0",
   "metadata": {},
   "source": [
    "##### Constants"
   ]
  },
  {
   "cell_type": "code",
   "execution_count": null,
   "id": "ebc65b62",
   "metadata": {},
   "outputs": [],
   "source": [
    "SEED = 42\n",
    "healthy_path = \"data/raw/Healthy\"\n",
    "parkinson_path = \"data/raw/Parkinson\""
   ]
  },
  {
   "cell_type": "markdown",
   "id": "41ee6747",
   "metadata": {},
   "source": [
    "##### Load Data"
   ]
  },
  {
   "cell_type": "code",
   "execution_count": null,
   "id": "dfcd857c",
   "metadata": {},
   "outputs": [],
   "source": [
    "# Carga y División de Datos\n",
    "from src.load_data import split_dataset \n",
    "\n",
    "X_train, y_train, X_test, y_test = split_dataset( \n",
    "    healthy_dir=healthy_path,\n",
    "    parkinson_dir=parkinson_path,\n",
    "    test_ratio=0.2,\n",
    "    size=(64, 64),\n",
    "    seed=SEED\n",
    ")\n",
    "\n",
    "print(\"X_train shape:\", X_train.shape)\n",
    "print(\"y_train shape:\", y_train.shape)\n",
    "print(\"X_test shape:\", X_test.shape)\n",
    "print(\"y_test shape:\", y_test.shape)"
   ]
  }
 ],
 "metadata": {
  "kernelspec": {
   "display_name": "TP-final_ML",
   "language": "python",
   "name": "python3"
  },
  "language_info": {
   "codemirror_mode": {
    "name": "ipython",
    "version": 3
   },
   "file_extension": ".py",
   "mimetype": "text/x-python",
   "name": "python",
   "nbconvert_exporter": "python",
   "pygments_lexer": "ipython3",
   "version": "3.10.18"
  }
 },
 "nbformat": 4,
 "nbformat_minor": 5
}
