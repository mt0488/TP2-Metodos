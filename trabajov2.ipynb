{
 "cells": [
  {
   "cell_type": "markdown",
   "metadata": {},
   "source": [
    "## Imports"
   ]
  },
  {
   "cell_type": "code",
   "execution_count": 35,
   "metadata": {},
   "outputs": [],
   "source": [
    "import numpy as np \n",
    "import os\n",
    "import matplotlib.pyplot as plt"
   ]
  },
  {
   "cell_type": "markdown",
   "metadata": {},
   "source": [
    "## Data Load"
   ]
  },
  {
   "cell_type": "code",
   "execution_count": 36,
   "metadata": {},
   "outputs": [],
   "source": [
    "healthy_path = \"data/raw/healthy\"\n",
    "parkinson_path = \"data/raw/parkinson\"\n",
    "\n",
    "output_path = \"data/splits\""
   ]
  },
  {
   "cell_type": "code",
   "execution_count": 37,
   "metadata": {},
   "outputs": [
    {
     "name": "stdout",
     "output_type": "stream",
     "text": [
      "Hay 816  muestras Healthy.\n",
      "Hay 816 muestras Parkinson.\n"
     ]
    }
   ],
   "source": [
    "import os\n",
    "\n",
    "def contar_archivos(carpeta):\n",
    "    return len([f for f in os.listdir(carpeta) if os.path.isfile(os.path.join(carpeta, f))])\n",
    "\n",
    "nh = contar_archivos(\"data/raw/Healthy\")\n",
    "print(f\"Hay {nh}  muestras Healthy.\")\n",
    "\n",
    "np = contar_archivos(\"data/raw/Parkinson\")\n",
    "print(f\"Hay {np} muestras Parkinson.\")"
   ]
  },
  {
   "cell_type": "code",
   "execution_count": 38,
   "metadata": {},
   "outputs": [],
   "source": [
    "import os\n",
    "import shutil\n",
    "import random\n",
    "import numpy as np\n",
    "from PIL import Image\n",
    "\n",
    "SEED = 42\n",
    "\n",
    "def cargar_imagen(path, size=(64, 64)):\n",
    "    \"\"\"Carga, convierte a grises, redimensiona y aplana una imagen\"\"\"\n",
    "    img = Image.open(path).convert('L').resize(size)\n",
    "    return np.array(img).flatten().astype(np.float32) \n",
    "\n",
    "def split_dataset(healthy_dir, parkinson_dir, test_ratio=0.2, size=(64, 64), seed=SEED):\n",
    "    random.seed(seed)\n",
    "\n",
    "    # Cargar rutas\n",
    "    healthy_paths = [os.path.join(healthy_dir, f) for f in os.listdir(healthy_dir) if f.lower().endswith(('.png', '.jpg', '.jpeg'))]\n",
    "    parkinson_paths = [os.path.join(parkinson_dir, f) for f in os.listdir(parkinson_dir) if f.lower().endswith(('.png', '.jpg', '.jpeg'))]\n",
    "\n",
    "    # Mezclar\n",
    "    random.shuffle(healthy_paths)\n",
    "    random.shuffle(parkinson_paths)\n",
    "\n",
    "    # Split\n",
    "    split_h = int(len(healthy_paths) * (1 - test_ratio))\n",
    "    split_p = int(len(parkinson_paths) * (1 - test_ratio))\n",
    "\n",
    "    healthy_train_paths = healthy_paths[:split_h]\n",
    "    healthy_test_paths = healthy_paths[split_h:]\n",
    "    parkinson_train_paths = parkinson_paths[:split_p]\n",
    "    parkinson_test_paths = parkinson_paths[split_p:]\n",
    "\n",
    "    # Cargar imágenes y etiquetas\n",
    "    X_train = [cargar_imagen(p, size) for p in healthy_train_paths + parkinson_train_paths]\n",
    "    y_train = [0] * len(healthy_train_paths) + [1] * len(parkinson_train_paths)\n",
    "\n",
    "    X_test = [cargar_imagen(p, size) for p in healthy_test_paths + parkinson_test_paths]\n",
    "    y_test = [0] * len(healthy_test_paths) + [1] * len(parkinson_test_paths)\n",
    "\n",
    "    # Convertir a np.array\n",
    "    X_train = np.array(X_train, dtype=np.float32)\n",
    "    y_train = np.array(y_train, dtype=np.float32)\n",
    "\n",
    "    X_test = np.array(X_test, dtype=np.float32)\n",
    "    y_test = np.array(y_test, dtype=np.float32)\n",
    "\n",
    "    # Mezclar train\n",
    "    train = list(zip(X_train, y_train))\n",
    "    random.shuffle(train)\n",
    "    X_train, y_train = zip(*train)\n",
    "    X_train = np.array(X_train)\n",
    "    y_train = np.array(y_train)\n",
    "\n",
    "    # Mezclar test\n",
    "    test = list(zip(X_test, y_test))\n",
    "    random.shuffle(test)\n",
    "    X_test, y_test = zip(*test)\n",
    "    X_test = np.array(X_test)\n",
    "    y_test = np.array(y_test)\n",
    "\n",
    "    print(\"✅ Dataset listo para entrenar\")\n",
    "    print(f\"   - X_train: {X_train.shape}\")\n",
    "    print(f\"   - y_train: {y_train.shape}\")\n",
    "    print(f\"   - X_test:  {X_test.shape}\")\n",
    "    print(f\"   - y_test:  {y_test.shape}\")\n",
    "\n",
    "    return X_train, y_train, X_test, y_test\n"
   ]
  },
  {
   "cell_type": "code",
   "execution_count": 39,
   "metadata": {},
   "outputs": [
    {
     "name": "stdout",
     "output_type": "stream",
     "text": [
      "✅ Dataset listo para entrenar\n",
      "   - X_train: (1304, 4096)\n",
      "   - y_train: (1304,)\n",
      "   - X_test:  (328, 4096)\n",
      "   - y_test:  (328,)\n"
     ]
    }
   ],
   "source": [
    "X_dev, y_dev, X_test, y_test = split_dataset(healthy_path, parkinson_path, test_ratio=0.2, seed=SEED)"
   ]
  },
  {
   "cell_type": "markdown",
   "metadata": {},
   "source": [
    "## Preprocessing"
   ]
  },
  {
   "cell_type": "code",
   "execution_count": 40,
   "metadata": {},
   "outputs": [],
   "source": [
    "import numpy as np\n",
    "\n",
    "def normalizar_dataset(X):\n",
    "    \"\"\"\n",
    "    Recibe una lista de arrays (cada imagen) y devuelve un np.array 2D\n",
    "    con los valores normalizados en el rango [0, 1].\n",
    "    Output: shape (n_samples, n_features)\n",
    "    \"\"\"\n",
    "    X_norm = [x.astype(np.float32) / 255.0 for x in X]\n",
    "    return np.array(X_norm)\n",
    "\n",
    "X_dev_normalized = normalizar_dataset(X_dev)\n",
    "X_test_normalized = normalizar_dataset(X_test)\n"
   ]
  },
  {
   "cell_type": "markdown",
   "metadata": {},
   "source": [
    "## Derivatives"
   ]
  },
  {
   "cell_type": "code",
   "execution_count": 41,
   "metadata": {},
   "outputs": [],
   "source": [
    "def f_wb(x, w, b):\n",
    "    return (np.tanh(np.dot(x, w) + b) + 1) / 2\n",
    "\n",
    "def loss(X, y, w, b):\n",
    "    fx = f_wb(X, w, b)\n",
    "    return np.mean((fx - y)**2)"
   ]
  },
  {
   "cell_type": "code",
   "execution_count": 42,
   "metadata": {},
   "outputs": [],
   "source": [
    "def gradientes(X, y, w, b):\n",
    "    n = X.shape[0]\n",
    "    z = np.dot(X, w) + b\n",
    "    fx = (np.tanh(z) + 1) / 2\n",
    "\n",
    "    error = fx - y\n",
    "    dtanh = 0.5 * (1 - np.tanh(z)**2)\n",
    "\n",
    "    grad_f = error * dtanh  # vector de tamaño n\n",
    "\n",
    "    grad_w = np.dot(grad_f, X) / n\n",
    "    grad_b = np.sum(grad_f) / n\n",
    "\n",
    "    return grad_w, grad_b\n"
   ]
  },
  {
   "cell_type": "code",
   "execution_count": 43,
   "metadata": {},
   "outputs": [],
   "source": [
    "def descenso_por_gradiente(X, y, lr=0.01, epochs=100):\n",
    "    w = np.random.uniform(-0.1, 0.1, size=X.shape[1])\n",
    "    b = np.random.uniform(-1, 1)\n",
    "\n",
    "\n",
    "    historial_loss = []\n",
    "\n",
    "    for epoch in range(epochs):\n",
    "        grad_w, grad_b = gradientes(X, y, w, b)\n",
    "        w -= lr * grad_w\n",
    "        b -= lr * grad_b\n",
    "\n",
    "        l = loss(X, y, w, b)\n",
    "        historial_loss.append(l)\n",
    "\n",
    "        if epoch % 10 == 0:\n",
    "            print(f\"Epoch {epoch} - Loss: {l:.4f}\")\n",
    "\n",
    "    return w, b, historial_loss\n"
   ]
  },
  {
   "cell_type": "markdown",
   "metadata": {},
   "source": []
  },
  {
   "cell_type": "markdown",
   "metadata": {},
   "source": [
    "### Training"
   ]
  },
  {
   "cell_type": "code",
   "execution_count": 44,
   "metadata": {},
   "outputs": [
    {
     "name": "stdout",
     "output_type": "stream",
     "text": [
      "Epoch 0 - Loss: 0.5000\n",
      "Epoch 10 - Loss: 0.5000\n",
      "Epoch 20 - Loss: 0.5000\n",
      "Epoch 30 - Loss: 0.5000\n",
      "Epoch 40 - Loss: 0.5000\n",
      "Epoch 50 - Loss: 0.5000\n",
      "Epoch 60 - Loss: 0.5000\n",
      "Epoch 70 - Loss: 0.5000\n",
      "Epoch 80 - Loss: 0.5000\n",
      "Epoch 90 - Loss: 0.5000\n",
      "Epoch 100 - Loss: 0.5000\n",
      "Epoch 110 - Loss: 0.5000\n",
      "Epoch 120 - Loss: 0.5000\n",
      "Epoch 130 - Loss: 0.5000\n",
      "Epoch 140 - Loss: 0.5000\n",
      "Epoch 150 - Loss: 0.5000\n",
      "Epoch 160 - Loss: 0.5000\n",
      "Epoch 170 - Loss: 0.5000\n",
      "Epoch 180 - Loss: 0.5000\n",
      "Epoch 190 - Loss: 0.5000\n",
      "Epoch 200 - Loss: 0.5000\n",
      "Epoch 210 - Loss: 0.5000\n",
      "Epoch 220 - Loss: 0.5000\n",
      "Epoch 230 - Loss: 0.5000\n",
      "Epoch 240 - Loss: 0.5000\n",
      "Epoch 250 - Loss: 0.5000\n",
      "Epoch 260 - Loss: 0.5000\n",
      "Epoch 270 - Loss: 0.5000\n",
      "Epoch 280 - Loss: 0.5000\n",
      "Epoch 290 - Loss: 0.5000\n",
      "Epoch 300 - Loss: 0.5000\n",
      "Epoch 310 - Loss: 0.5000\n",
      "Epoch 320 - Loss: 0.5000\n",
      "Epoch 330 - Loss: 0.5000\n",
      "Epoch 340 - Loss: 0.5000\n",
      "Epoch 350 - Loss: 0.5000\n",
      "Epoch 360 - Loss: 0.5000\n",
      "Epoch 370 - Loss: 0.5000\n",
      "Epoch 380 - Loss: 0.5000\n",
      "Epoch 390 - Loss: 0.5000\n",
      "Epoch 400 - Loss: 0.5000\n",
      "Epoch 410 - Loss: 0.5000\n",
      "Epoch 420 - Loss: 0.5000\n",
      "Epoch 430 - Loss: 0.5000\n",
      "Epoch 440 - Loss: 0.5000\n",
      "Epoch 450 - Loss: 0.5000\n",
      "Epoch 460 - Loss: 0.5000\n",
      "Epoch 470 - Loss: 0.5000\n",
      "Epoch 480 - Loss: 0.5000\n",
      "Epoch 490 - Loss: 0.5000\n"
     ]
    }
   ],
   "source": [
    "w_final, b_final, historial_loss = descenso_por_gradiente(X_dev, y_dev, lr=0.001, epochs=500)"
   ]
  },
  {
   "cell_type": "code",
   "execution_count": 45,
   "metadata": {},
   "outputs": [
    {
     "data": {
      "image/png": "[encoded data removed]",
      "text/plain": [
       "<Figure size 800x400 with 1 Axes>"
      ]
     },
     "metadata": {},
     "output_type": "display_data"
    }
   ],
   "source": [
    "plt.figure(figsize=(8, 4))\n",
    "plt.plot(historial_loss, label=\"Loss\")\n",
    "plt.xlabel(\"Épocas\")\n",
    "plt.ylabel(\"Error cuadrático medio\")\n",
    "plt.title(\"Evolución del error durante el entrenamiento lr = 0.01\")\n",
    "plt.grid(True)\n",
    "plt.legend()\n",
    "plt.show()\n"
   ]
  },
  {
   "cell_type": "markdown",
   "metadata": {},
   "source": [
    "### Metrics on Train"
   ]
  },
  {
   "cell_type": "code",
   "execution_count": 46,
   "metadata": {},
   "outputs": [],
   "source": [
    "def predecir(X, w, b):\n",
    "    fx = f_wb(X, w, b)\n",
    "    return (fx >= 0.5).astype(int)\n",
    "\n",
    "def accuracy(y_pred, y_true):\n",
    "    return np.mean(y_pred == y_true)\n"
   ]
  },
  {
   "cell_type": "code",
   "execution_count": 47,
   "metadata": {},
   "outputs": [],
   "source": [
    "import numpy as np\n",
    "\n",
    "def confusion_matrix(y_true, y_pred):\n",
    "    assert len(y_true) == len(y_pred)\n",
    "    \n",
    "    TP = np.sum((y_pred == 1) & (y_true == 1))\n",
    "    TN = np.sum((y_pred == 0) & (y_true == 0))\n",
    "    FP = np.sum((y_pred == 1) & (y_true == 0))\n",
    "    FN = np.sum((y_pred == 0) & (y_true == 1))\n",
    "    \n",
    "    return np.array([[TN, FP],\n",
    "                     [FN, TP]])\n",
    "\n",
    "import matplotlib.pyplot as plt\n",
    "\n",
    "def plot_confusion_matrix(cm, labels=[\"Healthy\", \"Parkinson\"], titulo=\"Matriz de Confusión\"):\n",
    "    fig, ax = plt.subplots()\n",
    "    im = ax.imshow(cm, cmap=\"Blues\")\n",
    "\n",
    "    # Etiquetas\n",
    "    ax.set_xticks([0, 1])\n",
    "    ax.set_yticks([0, 1])\n",
    "    ax.set_xticklabels(labels)\n",
    "    ax.set_yticklabels(labels)\n",
    "    ax.set_xlabel(\"Predicho\")\n",
    "    ax.set_ylabel(\"Real\")\n",
    "    ax.set_title(titulo)\n",
    "\n",
    "    # Anotar cada celda\n",
    "    for i in range(2):\n",
    "        for j in range(2):\n",
    "            ax.text(j, i, str(cm[i, j]), ha=\"center\", va=\"center\", color=\"black\")\n",
    "\n",
    "    plt.colorbar(im)\n",
    "    plt.show()\n"
   ]
  },
  {
   "cell_type": "code",
   "execution_count": 48,
   "metadata": {},
   "outputs": [
    {
     "name": "stdout",
     "output_type": "stream",
     "text": [
      "✅ Accuracy Train: 0.5000\n"
     ]
    },
    {
     "data": {
      "image/png": "[encoded data removed]",
      "text/plain": [
       "<Figure size 640x480 with 2 Axes>"
      ]
     },
     "metadata": {},
     "output_type": "display_data"
    }
   ],
   "source": [
    "# Predicción\n",
    "y_pred_dev = predecir(X_dev, w_final, b_final)\n",
    "\n",
    "\n",
    "# Accuracy\n",
    "acc_dev = accuracy(y_pred_dev, y_dev)\n",
    "\n",
    "print(f\"✅ Accuracy Train: {acc_dev:.4f}\")\n",
    "\n",
    "\n",
    "# Matriz de confusión\n",
    "cm_dev = confusion_matrix(y_dev, y_pred_dev)\n",
    "\n",
    "# Plot\n",
    "plot_confusion_matrix(cm_dev , titulo=\"Matriz de Confusión - Train\")"
   ]
  },
  {
   "cell_type": "markdown",
   "metadata": {},
   "source": [
    "## With normalized data"
   ]
  },
  {
   "cell_type": "code",
   "execution_count": 49,
   "metadata": {},
   "outputs": [
    {
     "name": "stdout",
     "output_type": "stream",
     "text": [
      "Epoch 0 - Loss: 0.4999\n",
      "Epoch 10 - Loss: 0.4999\n",
      "Epoch 20 - Loss: 0.4999\n",
      "Epoch 30 - Loss: 0.4999\n",
      "Epoch 40 - Loss: 0.4999\n",
      "Epoch 50 - Loss: 0.4999\n",
      "Epoch 60 - Loss: 0.4999\n",
      "Epoch 70 - Loss: 0.4999\n",
      "Epoch 80 - Loss: 0.4999\n",
      "Epoch 90 - Loss: 0.4999\n",
      "Epoch 100 - Loss: 0.4999\n",
      "Epoch 110 - Loss: 0.4999\n",
      "Epoch 120 - Loss: 0.4999\n",
      "Epoch 130 - Loss: 0.4999\n",
      "Epoch 140 - Loss: 0.4999\n",
      "Epoch 150 - Loss: 0.4999\n",
      "Epoch 160 - Loss: 0.4999\n",
      "Epoch 170 - Loss: 0.4999\n",
      "Epoch 180 - Loss: 0.4999\n",
      "Epoch 190 - Loss: 0.4999\n",
      "Epoch 200 - Loss: 0.4999\n",
      "Epoch 210 - Loss: 0.4999\n",
      "Epoch 220 - Loss: 0.4999\n",
      "Epoch 230 - Loss: 0.4999\n",
      "Epoch 240 - Loss: 0.4999\n",
      "Epoch 250 - Loss: 0.4999\n",
      "Epoch 260 - Loss: 0.4999\n",
      "Epoch 270 - Loss: 0.4999\n",
      "Epoch 280 - Loss: 0.4999\n",
      "Epoch 290 - Loss: 0.4999\n",
      "Epoch 300 - Loss: 0.4999\n",
      "Epoch 310 - Loss: 0.4999\n",
      "Epoch 320 - Loss: 0.4999\n",
      "Epoch 330 - Loss: 0.4999\n",
      "Epoch 340 - Loss: 0.4999\n",
      "Epoch 350 - Loss: 0.4999\n",
      "Epoch 360 - Loss: 0.4999\n",
      "Epoch 370 - Loss: 0.4999\n",
      "Epoch 380 - Loss: 0.4999\n",
      "Epoch 390 - Loss: 0.4999\n",
      "Epoch 400 - Loss: 0.4999\n",
      "Epoch 410 - Loss: 0.4999\n",
      "Epoch 420 - Loss: 0.4999\n",
      "Epoch 430 - Loss: 0.4999\n",
      "Epoch 440 - Loss: 0.4999\n",
      "Epoch 450 - Loss: 0.4999\n",
      "Epoch 460 - Loss: 0.4999\n",
      "Epoch 470 - Loss: 0.4999\n",
      "Epoch 480 - Loss: 0.4999\n",
      "Epoch 490 - Loss: 0.4999\n"
     ]
    }
   ],
   "source": [
    "w_final_norm, b_final_norm, historial_loss_norm = descenso_por_gradiente(X_dev_normalized, y_dev, lr=0.001, epochs=500)"
   ]
  },
  {
   "cell_type": "code",
   "execution_count": 50,
   "metadata": {},
   "outputs": [
    {
     "name": "stdout",
     "output_type": "stream",
     "text": [
      "✅ Accuracy Train: 0.5000\n"
     ]
    },
    {
     "data": {
      "image/png": "[encoded data removed]",
      "text/plain": [
       "<Figure size 640x480 with 2 Axes>"
      ]
     },
     "metadata": {},
     "output_type": "display_data"
    }
   ],
   "source": [
    "# Predicción\n",
    "y_pred_dev_norm = predecir(X_dev_normalized, w_final_norm, b_final_norm)\n",
    "\n",
    "\n",
    "# Accuracy\n",
    "acc_dev_norm = accuracy(y_pred_dev_norm, y_dev)\n",
    "\n",
    "print(f\"✅ Accuracy Train: {acc_dev_norm:.4f}\")\n",
    "\n",
    "\n",
    "# Matriz de confusión\n",
    "cm_dev_norm = confusion_matrix(y_dev, y_pred_dev_norm)\n",
    "\n",
    "# Plot\n",
    "plot_confusion_matrix(cm_dev_norm, titulo=\"Matriz de Confusión - Train\")"
   ]
  },
  {
   "cell_type": "code",
   "execution_count": 51,
   "metadata": {},
   "outputs": [
    {
     "data": {
      "image/png": "[encoded data removed]",
      "text/plain": [
       "<Figure size 640x480 with 1 Axes>"
      ]
     },
     "metadata": {},
     "output_type": "display_data"
    }
   ],
   "source": [
    "import matplotlib.pyplot as plt\n",
    "\n",
    "plt.plot(historial_loss, label=\"Raw\")\n",
    "plt.plot(historial_loss_norm, label=\"Normalized\")\n",
    "plt.xlabel(\"Épocas\")\n",
    "plt.ylabel(\"Loss\")\n",
    "plt.title(\"Comparación de entrenamiento\")\n",
    "plt.legend()\n",
    "plt.grid(True)\n",
    "plt.show()\n"
   ]
  },
  {
   "cell_type": "code",
   "execution_count": 52,
   "metadata": {},
   "outputs": [
    {
     "name": "stdout",
     "output_type": "stream",
     "text": [
      "Epoch 0 - Loss: 0.4970\n",
      "Epoch 10 - Loss: 0.4964\n",
      "Epoch 20 - Loss: 0.4957\n",
      "Epoch 30 - Loss: 0.4946\n",
      "Epoch 40 - Loss: 0.4927\n",
      "Epoch 50 - Loss: 0.4888\n",
      "Epoch 60 - Loss: 0.4771\n",
      "Epoch 70 - Loss: 0.3583\n",
      "Epoch 80 - Loss: 0.2567\n",
      "Epoch 90 - Loss: 0.2566\n",
      "Epoch 100 - Loss: 0.2566\n",
      "Epoch 110 - Loss: 0.2565\n",
      "Epoch 120 - Loss: 0.2565\n",
      "Epoch 130 - Loss: 0.2565\n",
      "Epoch 140 - Loss: 0.2564\n",
      "Epoch 150 - Loss: 0.2564\n",
      "Epoch 160 - Loss: 0.2563\n",
      "Epoch 170 - Loss: 0.2563\n",
      "Epoch 180 - Loss: 0.2563\n",
      "Epoch 190 - Loss: 0.2562\n"
     ]
    }
   ],
   "source": [
    "def f_wb(x, w, b):\n",
    "    return (np.tanh(np.dot(x, w) + b) + 1) / 2\n",
    "\n",
    "def loss(X, y, w, b):\n",
    "    return np.mean((f_wb(X, w, b) - y) ** 2)\n",
    "\n",
    "def gradientes(X, y, w, b):\n",
    "    n = X.shape[0]\n",
    "    z = np.dot(X, w) + b\n",
    "    fx = (np.tanh(z) + 1) / 2\n",
    "    error = fx - y\n",
    "    dtanh = 0.5 * (1 - np.tanh(z)**2)\n",
    "    grad_f = error * dtanh\n",
    "    grad_w = np.dot(grad_f, X) / n\n",
    "    grad_b = np.mean(grad_f)\n",
    "    return grad_w, grad_b\n",
    "\n",
    "# --- Descenso por gradiente ---\n",
    "def descenso_por_gradiente(X, y, lr=0.01, epochs=100):\n",
    "    w = np.random.uniform(-0.1, 0.1, X.shape[1])\n",
    "    b = 0\n",
    "    for epoch in range(epochs):\n",
    "        grad_w, grad_b = gradientes(X, y, w, b)\n",
    "        w -= lr * grad_w\n",
    "        b -= lr * grad_b\n",
    "        if epoch % 10 == 0:\n",
    "            print(f\"Epoch {epoch} - Loss: {loss(X, y, w, b):.4f}\")\n",
    "    return w, b\n",
    "\n",
    "# --- Entrenamiento ---\n",
    "\n",
    "w_final_n, b_final_n = descenso_por_gradiente(X_dev_normalized, y_dev, lr=0.001, epochs=200)"
   ]
  },
  {
   "cell_type": "markdown",
   "metadata": {},
   "source": [
    "# **`Validación`**\n",
    "\n"
   ]
  },
  {
   "cell_type": "markdown",
   "metadata": {},
   "source": [
    "usamos validaciòn para encontrar la mejor configuraciòn de hiperparàmetros. La idea es elegir un grid bastante amplio y probar las distintas configuraciones. En base a esto elegimos los hiperparametros con los que vamos a hacer el entrenamiento final"
   ]
  },
  {
   "cell_type": "markdown",
   "metadata": {},
   "source": [
    "obviamente hay que chequear bien los splits y que los modelos estén bien."
   ]
  },
  {
   "cell_type": "code",
   "execution_count": 53,
   "metadata": {},
   "outputs": [],
   "source": [
    "import numpy as np\n",
    "import random\n",
    "from sklearn.model_selection import train_test_split\n",
    "\n",
    "def f_wb(x, w, b):\n",
    "    return (np.tanh(np.dot(x, w) + b) + 1) / 2\n",
    "\n",
    "def loss(X, y, w, b):\n",
    "    fx = f_wb(X, w, b)\n",
    "    return np.mean((fx - y)**2)\n",
    "\n",
    "def gradientes(X, y, w, b):\n",
    "    n = X.shape[0]\n",
    "    z = np.dot(X, w) + b\n",
    "    fx = (np.tanh(z) + 1) / 2\n",
    "    error = fx - y\n",
    "    dtanh = 0.5 * (1 - np.tanh(z)**2)\n",
    "    grad_f = error * dtanh\n",
    "    grad_w = np.dot(grad_f, X) / n\n",
    "    grad_b = np.sum(grad_f) / n\n",
    "    return grad_w, grad_b\n",
    "\n",
    "def descenso_por_gradiente_early_stopping(X_train, y_train, X_val, y_val, lr=0.01, epochs=500, patience=20, seed=42):\n",
    "    np.random.seed(seed)\n",
    "    random.seed(seed)\n",
    "\n",
    "    w = np.random.uniform(-0.1, 0.1, size=X_train.shape[1])\n",
    "    b = np.random.uniform(-1, 1)\n",
    "\n",
    "    best_val_loss = float('inf')\n",
    "    best_w, best_b = w.copy(), b\n",
    "    best_epoch = 0\n",
    "    history = {'train_loss': [], 'val_loss': []}\n",
    "\n",
    "    for epoch in range(epochs):\n",
    "        grad_w, grad_b = gradientes(X_train, y_train, w, b)\n",
    "        w -= lr * grad_w\n",
    "        b -= lr * grad_b\n",
    "\n",
    "        train_l = loss(X_train, y_train, w, b)\n",
    "        val_l = loss(X_val, y_val, w, b)\n",
    "\n",
    "        history['train_loss'].append(train_l)\n",
    "        history['val_loss'].append(val_l)\n",
    "\n",
    "        if val_l < best_val_loss:\n",
    "            best_val_loss = val_l\n",
    "            best_w = w.copy()\n",
    "            best_b = b\n",
    "            best_epoch = epoch\n",
    "        elif epoch - best_epoch >= patience:\n",
    "            break\n",
    "\n",
    "    return best_w, best_b, history, best_epoch\n",
    "\n",
    "def accuracy(X, y, w, b):\n",
    "    fx = f_wb(X, w, b)\n",
    "    preds = (fx >= 0.5).astype(np.float32)\n",
    "    return np.mean(preds == y)\n",
    "\n"
   ]
  },
  {
   "cell_type": "code",
   "execution_count": 54,
   "metadata": {},
   "outputs": [
    {
     "name": "stdout",
     "output_type": "stream",
     "text": [
      "✅ Mejor época: 56\n",
      "🔹 Accuracy train: 0.5053\n",
      "🔹 Accuracy val:   0.4330\n",
      "🔹 Accuracy test:  0.4146\n"
     ]
    }
   ],
   "source": [
    "# Split train en train+val (por ejemplo, 80/20)\n",
    "X_train_part, X_val, y_train_part, y_val = train_test_split(X_dev, y_dev, test_size=0.2, random_state=42)\n",
    "\n",
    "# Normalizar los conjuntos\n",
    "X_train_part = normalizar_dataset(X_train_part)\n",
    "X_val = normalizar_dataset(X_val)\n",
    "X_test = normalizar_dataset(X_test)\n",
    "\n",
    "# Entrenamiento con early stopping\n",
    "w, b, hist, best_epoch = descenso_por_gradiente_early_stopping(\n",
    "    X_train_part, y_train_part,\n",
    "    X_val, y_val,\n",
    "    lr=0.01, epochs=500, patience=20, seed=42\n",
    ")\n",
    "\n",
    "# Evaluación\n",
    "acc_dev = accuracy(X_train_part, y_train_part, w, b)\n",
    "acc_val = accuracy(X_val, y_val, w, b)\n",
    "acc_test = accuracy(X_test, y_test, w, b)\n",
    "\n",
    "print(f\"✅ Mejor época: {best_epoch}\")\n",
    "print(f\"🔹 Accuracy train: {acc_dev:.4f}\")\n",
    "print(f\"🔹 Accuracy val:   {acc_val:.4f}\")\n",
    "print(f\"🔹 Accuracy test:  {acc_test:.4f}\")\n"
   ]
  },
  {
   "cell_type": "code",
   "execution_count": 55,
   "metadata": {},
   "outputs": [],
   "source": [
    "import numpy as np\n",
    "import random\n",
    "\n",
    "def f_wb(x, w, b):\n",
    "    return (np.tanh(np.dot(x, w) + b) + 1) / 2\n",
    "\n",
    "def loss(X, y, w, b):\n",
    "    fx = f_wb(X, w, b)\n",
    "    return np.mean((fx - y)**2)\n",
    "\n",
    "def gradientes(X, y, w, b):\n",
    "    n = X.shape[0]\n",
    "    z = np.dot(X, w) + b\n",
    "    fx = (np.tanh(z) + 1) / 2\n",
    "    error = fx - y\n",
    "    dtanh = 0.5 * (1 - np.tanh(z)**2)\n",
    "    grad_f = error * dtanh\n",
    "    grad_w = np.dot(grad_f, X) / n\n",
    "    grad_b = np.sum(grad_f) / n\n",
    "    return grad_w, grad_b\n",
    "\n",
    "def accuracy(X, y, w, b):\n",
    "    fx = f_wb(X, w, b)\n",
    "    preds = (fx >= 0.5).astype(np.float32)\n",
    "    return np.mean(preds == y)\n"
   ]
  },
  {
   "cell_type": "code",
   "execution_count": 56,
   "metadata": {},
   "outputs": [],
   "source": [
    "def descenso_por_gradiente_early_stopping(X_train, y_train, X_val, y_val, lr=0.01, epochs=500, patience=20, seed=42):\n",
    "    np.random.seed(seed)\n",
    "    random.seed(seed)\n",
    "\n",
    "    w = np.random.uniform(-0.1, 0.1, size=X_train.shape[1])\n",
    "    b = np.random.uniform(-1, 1)\n",
    "\n",
    "    best_val_loss = float('inf')\n",
    "    best_w, best_b = w.copy(), b\n",
    "    best_epoch = 0\n",
    "    history = {'train_loss': [], 'val_loss': []}\n",
    "\n",
    "    for epoch in range(epochs):\n",
    "        grad_w, grad_b = gradientes(X_train, y_train, w, b)\n",
    "        w -= lr * grad_w\n",
    "        b -= lr * grad_b\n",
    "\n",
    "        train_l = loss(X_train, y_train, w, b)\n",
    "        val_l = loss(X_val, y_val, w, b)\n",
    "\n",
    "        history['train_loss'].append(train_l)\n",
    "        history['val_loss'].append(val_l)\n",
    "\n",
    "        if val_l < best_val_loss:\n",
    "            best_val_loss = val_l\n",
    "            best_w = w.copy()\n",
    "            best_b = b\n",
    "            best_epoch = epoch\n",
    "        elif epoch - best_epoch >= patience:\n",
    "            break\n",
    "\n",
    "    return best_w, best_b, history, best_epoch\n"
   ]
  },
  {
   "cell_type": "code",
   "execution_count": 57,
   "metadata": {},
   "outputs": [],
   "source": [
    "\n",
    "learning_rates = [0.0001, 0.001, 0.005, 0.01, 0.05, 0.1]\n",
    "patiences = [10, 20]\n",
    "seeds = [1, 2, 3, 4, 5, 6, 7, 8, 9, 10, 11, 12, 13, 14, 15, 16, 17, 18, 19, 20, 42, 123]\n",
    "\n",
    "resultados = []\n",
    "\n",
    "for lr in learning_rates:\n",
    "    for patience in patiences:\n",
    "        for seed in seeds:\n",
    "\n",
    "            w, b, hist, best_epoch = descenso_por_gradiente_early_stopping(\n",
    "                X_train_part, y_train_part, X_val, y_val,\n",
    "                lr=lr, epochs=500, patience=patience, seed=seed\n",
    "            )\n",
    "\n",
    "            acc_dev = accuracy(X_train_part, y_train_part, w, b)\n",
    "            acc_val = accuracy(X_val, y_val, w, b)\n",
    "\n",
    "            resultados.append({\n",
    "                'lr': lr,\n",
    "                'patience': patience,\n",
    "                'seed': seed,\n",
    "                'best_epoch': best_epoch,\n",
    "                'acc_train': acc_dev,\n",
    "                'acc_val': acc_val,\n",
    "            })\n"
   ]
  },
  {
   "cell_type": "code",
   "execution_count": 58,
   "metadata": {},
   "outputs": [
    {
     "name": "stdout",
     "output_type": "stream",
     "text": [
      "Resultados de la validación:\n",
      "LR: 0.0001, Patience: 10, Seed: 1, Best Epoch: 95, Train Acc: 0.4899, Val Acc: 0.5287\n",
      "LR: 0.0001, Patience: 10, Seed: 2, Best Epoch: 499, Train Acc: 0.4535, Val Acc: 0.5096\n",
      "LR: 0.0001, Patience: 10, Seed: 3, Best Epoch: 0, Train Acc: 0.5120, Val Acc: 0.5785\n",
      "LR: 0.0001, Patience: 10, Seed: 4, Best Epoch: 31, Train Acc: 0.4919, Val Acc: 0.4904\n",
      "LR: 0.0001, Patience: 10, Seed: 5, Best Epoch: 30, Train Acc: 0.4765, Val Acc: 0.5134\n",
      "LR: 0.0001, Patience: 10, Seed: 6, Best Epoch: 499, Train Acc: 0.4909, Val Acc: 0.5364\n",
      "LR: 0.0001, Patience: 10, Seed: 7, Best Epoch: 499, Train Acc: 0.5091, Val Acc: 0.4636\n",
      "LR: 0.0001, Patience: 10, Seed: 8, Best Epoch: 499, Train Acc: 0.5091, Val Acc: 0.4636\n",
      "LR: 0.0001, Patience: 10, Seed: 9, Best Epoch: 499, Train Acc: 0.5091, Val Acc: 0.4521\n",
      "LR: 0.0001, Patience: 10, Seed: 10, Best Epoch: 499, Train Acc: 0.5091, Val Acc: 0.4636\n",
      "LR: 0.0001, Patience: 10, Seed: 11, Best Epoch: 499, Train Acc: 0.4909, Val Acc: 0.5364\n",
      "LR: 0.0001, Patience: 10, Seed: 12, Best Epoch: 499, Train Acc: 0.5292, Val Acc: 0.4828\n",
      "LR: 0.0001, Patience: 10, Seed: 13, Best Epoch: 28, Train Acc: 0.4746, Val Acc: 0.4943\n",
      "LR: 0.0001, Patience: 10, Seed: 14, Best Epoch: 188, Train Acc: 0.4727, Val Acc: 0.4828\n",
      "LR: 0.0001, Patience: 10, Seed: 15, Best Epoch: 28, Train Acc: 0.5225, Val Acc: 0.5134\n",
      "LR: 0.0001, Patience: 10, Seed: 16, Best Epoch: 499, Train Acc: 0.5091, Val Acc: 0.4483\n",
      "LR: 0.0001, Patience: 10, Seed: 17, Best Epoch: 499, Train Acc: 0.4468, Val Acc: 0.4943\n",
      "LR: 0.0001, Patience: 10, Seed: 18, Best Epoch: 499, Train Acc: 0.5091, Val Acc: 0.4636\n",
      "LR: 0.0001, Patience: 10, Seed: 19, Best Epoch: 499, Train Acc: 0.4756, Val Acc: 0.5096\n",
      "LR: 0.0001, Patience: 10, Seed: 20, Best Epoch: 499, Train Acc: 0.4909, Val Acc: 0.5364\n",
      "LR: 0.0001, Patience: 10, Seed: 42, Best Epoch: 499, Train Acc: 0.5072, Val Acc: 0.4368\n",
      "LR: 0.0001, Patience: 10, Seed: 123, Best Epoch: 499, Train Acc: 0.5149, Val Acc: 0.4559\n",
      "LR: 0.0001, Patience: 20, Seed: 1, Best Epoch: 95, Train Acc: 0.4899, Val Acc: 0.5287\n",
      "LR: 0.0001, Patience: 20, Seed: 2, Best Epoch: 499, Train Acc: 0.4535, Val Acc: 0.5096\n",
      "LR: 0.0001, Patience: 20, Seed: 3, Best Epoch: 0, Train Acc: 0.5120, Val Acc: 0.5785\n",
      "LR: 0.0001, Patience: 20, Seed: 4, Best Epoch: 31, Train Acc: 0.4919, Val Acc: 0.4904\n",
      "LR: 0.0001, Patience: 20, Seed: 5, Best Epoch: 30, Train Acc: 0.4765, Val Acc: 0.5134\n",
      "LR: 0.0001, Patience: 20, Seed: 6, Best Epoch: 499, Train Acc: 0.4909, Val Acc: 0.5364\n",
      "LR: 0.0001, Patience: 20, Seed: 7, Best Epoch: 499, Train Acc: 0.5091, Val Acc: 0.4636\n",
      "LR: 0.0001, Patience: 20, Seed: 8, Best Epoch: 499, Train Acc: 0.5091, Val Acc: 0.4636\n",
      "LR: 0.0001, Patience: 20, Seed: 9, Best Epoch: 499, Train Acc: 0.5091, Val Acc: 0.4521\n",
      "LR: 0.0001, Patience: 20, Seed: 10, Best Epoch: 499, Train Acc: 0.5091, Val Acc: 0.4636\n",
      "LR: 0.0001, Patience: 20, Seed: 11, Best Epoch: 499, Train Acc: 0.4909, Val Acc: 0.5364\n",
      "LR: 0.0001, Patience: 20, Seed: 12, Best Epoch: 499, Train Acc: 0.5292, Val Acc: 0.4828\n",
      "LR: 0.0001, Patience: 20, Seed: 13, Best Epoch: 28, Train Acc: 0.4746, Val Acc: 0.4943\n",
      "LR: 0.0001, Patience: 20, Seed: 14, Best Epoch: 188, Train Acc: 0.4727, Val Acc: 0.4828\n",
      "LR: 0.0001, Patience: 20, Seed: 15, Best Epoch: 28, Train Acc: 0.5225, Val Acc: 0.5134\n",
      "LR: 0.0001, Patience: 20, Seed: 16, Best Epoch: 499, Train Acc: 0.5091, Val Acc: 0.4483\n",
      "LR: 0.0001, Patience: 20, Seed: 17, Best Epoch: 499, Train Acc: 0.4468, Val Acc: 0.4943\n",
      "LR: 0.0001, Patience: 20, Seed: 18, Best Epoch: 499, Train Acc: 0.5091, Val Acc: 0.4636\n",
      "LR: 0.0001, Patience: 20, Seed: 19, Best Epoch: 499, Train Acc: 0.4756, Val Acc: 0.5096\n",
      "LR: 0.0001, Patience: 20, Seed: 20, Best Epoch: 499, Train Acc: 0.4909, Val Acc: 0.5364\n",
      "LR: 0.0001, Patience: 20, Seed: 42, Best Epoch: 499, Train Acc: 0.5072, Val Acc: 0.4368\n",
      "LR: 0.0001, Patience: 20, Seed: 123, Best Epoch: 499, Train Acc: 0.5149, Val Acc: 0.4559\n",
      "LR: 0.001, Patience: 10, Seed: 1, Best Epoch: 8, Train Acc: 0.4823, Val Acc: 0.5096\n",
      "LR: 0.001, Patience: 10, Seed: 2, Best Epoch: 499, Train Acc: 0.4660, Val Acc: 0.5019\n",
      "LR: 0.001, Patience: 10, Seed: 3, Best Epoch: 0, Train Acc: 0.5158, Val Acc: 0.5594\n",
      "LR: 0.001, Patience: 10, Seed: 4, Best Epoch: 2, Train Acc: 0.4986, Val Acc: 0.4981\n",
      "LR: 0.001, Patience: 10, Seed: 5, Best Epoch: 1, Train Acc: 0.4784, Val Acc: 0.5096\n",
      "LR: 0.001, Patience: 10, Seed: 6, Best Epoch: 499, Train Acc: 0.4909, Val Acc: 0.5364\n",
      "LR: 0.001, Patience: 10, Seed: 7, Best Epoch: 499, Train Acc: 0.5235, Val Acc: 0.5057\n",
      "LR: 0.001, Patience: 10, Seed: 8, Best Epoch: 499, Train Acc: 0.5024, Val Acc: 0.4866\n",
      "LR: 0.001, Patience: 10, Seed: 9, Best Epoch: 499, Train Acc: 0.5283, Val Acc: 0.4598\n",
      "LR: 0.001, Patience: 10, Seed: 10, Best Epoch: 499, Train Acc: 0.5091, Val Acc: 0.4636\n",
      "LR: 0.001, Patience: 10, Seed: 11, Best Epoch: 82, Train Acc: 0.5369, Val Acc: 0.5441\n",
      "LR: 0.001, Patience: 10, Seed: 12, Best Epoch: 499, Train Acc: 0.5360, Val Acc: 0.4866\n",
      "LR: 0.001, Patience: 10, Seed: 13, Best Epoch: 1, Train Acc: 0.4688, Val Acc: 0.4866\n",
      "LR: 0.001, Patience: 10, Seed: 14, Best Epoch: 18, Train Acc: 0.4727, Val Acc: 0.4828\n",
      "LR: 0.001, Patience: 10, Seed: 15, Best Epoch: 1, Train Acc: 0.5235, Val Acc: 0.5096\n",
      "LR: 0.001, Patience: 10, Seed: 16, Best Epoch: 499, Train Acc: 0.5244, Val Acc: 0.4483\n",
      "LR: 0.001, Patience: 10, Seed: 17, Best Epoch: 499, Train Acc: 0.4583, Val Acc: 0.4981\n",
      "LR: 0.001, Patience: 10, Seed: 18, Best Epoch: 499, Train Acc: 0.5091, Val Acc: 0.4636\n",
      "LR: 0.001, Patience: 10, Seed: 19, Best Epoch: 499, Train Acc: 0.4832, Val Acc: 0.5019\n",
      "LR: 0.001, Patience: 10, Seed: 20, Best Epoch: 71, Train Acc: 0.4660, Val Acc: 0.5249\n",
      "LR: 0.001, Patience: 10, Seed: 42, Best Epoch: 499, Train Acc: 0.5110, Val Acc: 0.4330\n",
      "LR: 0.001, Patience: 10, Seed: 123, Best Epoch: 499, Train Acc: 0.5206, Val Acc: 0.4521\n",
      "LR: 0.001, Patience: 20, Seed: 1, Best Epoch: 8, Train Acc: 0.4823, Val Acc: 0.5096\n",
      "LR: 0.001, Patience: 20, Seed: 2, Best Epoch: 499, Train Acc: 0.4660, Val Acc: 0.5019\n",
      "LR: 0.001, Patience: 20, Seed: 3, Best Epoch: 0, Train Acc: 0.5158, Val Acc: 0.5594\n",
      "LR: 0.001, Patience: 20, Seed: 4, Best Epoch: 2, Train Acc: 0.4986, Val Acc: 0.4981\n",
      "LR: 0.001, Patience: 20, Seed: 5, Best Epoch: 1, Train Acc: 0.4784, Val Acc: 0.5096\n",
      "LR: 0.001, Patience: 20, Seed: 6, Best Epoch: 499, Train Acc: 0.4909, Val Acc: 0.5364\n",
      "LR: 0.001, Patience: 20, Seed: 7, Best Epoch: 499, Train Acc: 0.5235, Val Acc: 0.5057\n",
      "LR: 0.001, Patience: 20, Seed: 8, Best Epoch: 499, Train Acc: 0.5024, Val Acc: 0.4866\n",
      "LR: 0.001, Patience: 20, Seed: 9, Best Epoch: 499, Train Acc: 0.5283, Val Acc: 0.4598\n",
      "LR: 0.001, Patience: 20, Seed: 10, Best Epoch: 499, Train Acc: 0.5091, Val Acc: 0.4636\n",
      "LR: 0.001, Patience: 20, Seed: 11, Best Epoch: 82, Train Acc: 0.5369, Val Acc: 0.5441\n",
      "LR: 0.001, Patience: 20, Seed: 12, Best Epoch: 499, Train Acc: 0.5360, Val Acc: 0.4866\n",
      "LR: 0.001, Patience: 20, Seed: 13, Best Epoch: 1, Train Acc: 0.4688, Val Acc: 0.4866\n",
      "LR: 0.001, Patience: 20, Seed: 14, Best Epoch: 18, Train Acc: 0.4727, Val Acc: 0.4828\n",
      "LR: 0.001, Patience: 20, Seed: 15, Best Epoch: 1, Train Acc: 0.5235, Val Acc: 0.5096\n",
      "LR: 0.001, Patience: 20, Seed: 16, Best Epoch: 499, Train Acc: 0.5244, Val Acc: 0.4483\n",
      "LR: 0.001, Patience: 20, Seed: 17, Best Epoch: 499, Train Acc: 0.4583, Val Acc: 0.4981\n",
      "LR: 0.001, Patience: 20, Seed: 18, Best Epoch: 499, Train Acc: 0.5091, Val Acc: 0.4636\n",
      "LR: 0.001, Patience: 20, Seed: 19, Best Epoch: 499, Train Acc: 0.4832, Val Acc: 0.5019\n",
      "LR: 0.001, Patience: 20, Seed: 20, Best Epoch: 71, Train Acc: 0.4660, Val Acc: 0.5249\n",
      "LR: 0.001, Patience: 20, Seed: 42, Best Epoch: 499, Train Acc: 0.5110, Val Acc: 0.4330\n",
      "LR: 0.001, Patience: 20, Seed: 123, Best Epoch: 499, Train Acc: 0.5206, Val Acc: 0.4521\n",
      "LR: 0.005, Patience: 10, Seed: 1, Best Epoch: 1, Train Acc: 0.4851, Val Acc: 0.5364\n",
      "LR: 0.005, Patience: 10, Seed: 2, Best Epoch: 5, Train Acc: 0.4890, Val Acc: 0.5211\n",
      "LR: 0.005, Patience: 10, Seed: 3, Best Epoch: 1, Train Acc: 0.4909, Val Acc: 0.5900\n",
      "LR: 0.005, Patience: 10, Seed: 4, Best Epoch: 9, Train Acc: 0.4813, Val Acc: 0.5287\n",
      "LR: 0.005, Patience: 10, Seed: 5, Best Epoch: 3, Train Acc: 0.4765, Val Acc: 0.5326\n",
      "LR: 0.005, Patience: 10, Seed: 6, Best Epoch: 499, Train Acc: 0.4909, Val Acc: 0.5364\n",
      "LR: 0.005, Patience: 10, Seed: 7, Best Epoch: 13, Train Acc: 0.4890, Val Acc: 0.5326\n",
      "LR: 0.005, Patience: 10, Seed: 8, Best Epoch: 16, Train Acc: 0.4899, Val Acc: 0.5287\n",
      "LR: 0.005, Patience: 10, Seed: 9, Best Epoch: 2, Train Acc: 0.5024, Val Acc: 0.5134\n",
      "LR: 0.005, Patience: 10, Seed: 10, Best Epoch: 499, Train Acc: 0.5091, Val Acc: 0.4636\n",
      "LR: 0.005, Patience: 10, Seed: 11, Best Epoch: 17, Train Acc: 0.5244, Val Acc: 0.4636\n",
      "LR: 0.005, Patience: 10, Seed: 12, Best Epoch: 4, Train Acc: 0.4871, Val Acc: 0.5326\n",
      "LR: 0.005, Patience: 10, Seed: 13, Best Epoch: 5, Train Acc: 0.4784, Val Acc: 0.5326\n",
      "LR: 0.005, Patience: 10, Seed: 14, Best Epoch: 7, Train Acc: 0.4928, Val Acc: 0.5287\n",
      "LR: 0.005, Patience: 10, Seed: 15, Best Epoch: 5, Train Acc: 0.4899, Val Acc: 0.5364\n",
      "LR: 0.005, Patience: 10, Seed: 16, Best Epoch: 8, Train Acc: 0.4899, Val Acc: 0.5364\n",
      "LR: 0.005, Patience: 10, Seed: 17, Best Epoch: 2, Train Acc: 0.4890, Val Acc: 0.5326\n",
      "LR: 0.005, Patience: 10, Seed: 18, Best Epoch: 215, Train Acc: 0.4890, Val Acc: 0.5364\n",
      "LR: 0.005, Patience: 10, Seed: 19, Best Epoch: 0, Train Acc: 0.4640, Val Acc: 0.4866\n",
      "LR: 0.005, Patience: 10, Seed: 20, Best Epoch: 22, Train Acc: 0.4803, Val Acc: 0.5364\n",
      "LR: 0.005, Patience: 10, Seed: 42, Best Epoch: 11, Train Acc: 0.4890, Val Acc: 0.5287\n",
      "LR: 0.005, Patience: 10, Seed: 123, Best Epoch: 8, Train Acc: 0.5254, Val Acc: 0.4598\n",
      "LR: 0.005, Patience: 20, Seed: 1, Best Epoch: 1, Train Acc: 0.4851, Val Acc: 0.5364\n",
      "LR: 0.005, Patience: 20, Seed: 2, Best Epoch: 5, Train Acc: 0.4890, Val Acc: 0.5211\n",
      "LR: 0.005, Patience: 20, Seed: 3, Best Epoch: 1, Train Acc: 0.4909, Val Acc: 0.5900\n",
      "LR: 0.005, Patience: 20, Seed: 4, Best Epoch: 9, Train Acc: 0.4813, Val Acc: 0.5287\n",
      "LR: 0.005, Patience: 20, Seed: 5, Best Epoch: 3, Train Acc: 0.4765, Val Acc: 0.5326\n",
      "LR: 0.005, Patience: 20, Seed: 6, Best Epoch: 499, Train Acc: 0.4909, Val Acc: 0.5364\n",
      "LR: 0.005, Patience: 20, Seed: 7, Best Epoch: 13, Train Acc: 0.4890, Val Acc: 0.5326\n",
      "LR: 0.005, Patience: 20, Seed: 8, Best Epoch: 16, Train Acc: 0.4899, Val Acc: 0.5287\n",
      "LR: 0.005, Patience: 20, Seed: 9, Best Epoch: 2, Train Acc: 0.5024, Val Acc: 0.5134\n",
      "LR: 0.005, Patience: 20, Seed: 10, Best Epoch: 499, Train Acc: 0.5091, Val Acc: 0.4636\n",
      "LR: 0.005, Patience: 20, Seed: 11, Best Epoch: 17, Train Acc: 0.5244, Val Acc: 0.4636\n",
      "LR: 0.005, Patience: 20, Seed: 12, Best Epoch: 4, Train Acc: 0.4871, Val Acc: 0.5326\n",
      "LR: 0.005, Patience: 20, Seed: 13, Best Epoch: 5, Train Acc: 0.4784, Val Acc: 0.5326\n",
      "LR: 0.005, Patience: 20, Seed: 14, Best Epoch: 7, Train Acc: 0.4928, Val Acc: 0.5287\n",
      "LR: 0.005, Patience: 20, Seed: 15, Best Epoch: 5, Train Acc: 0.4899, Val Acc: 0.5364\n",
      "LR: 0.005, Patience: 20, Seed: 16, Best Epoch: 8, Train Acc: 0.4899, Val Acc: 0.5364\n",
      "LR: 0.005, Patience: 20, Seed: 17, Best Epoch: 2, Train Acc: 0.4890, Val Acc: 0.5326\n",
      "LR: 0.005, Patience: 20, Seed: 18, Best Epoch: 215, Train Acc: 0.4890, Val Acc: 0.5364\n",
      "LR: 0.005, Patience: 20, Seed: 19, Best Epoch: 0, Train Acc: 0.4640, Val Acc: 0.4866\n",
      "LR: 0.005, Patience: 20, Seed: 20, Best Epoch: 22, Train Acc: 0.4803, Val Acc: 0.5364\n",
      "LR: 0.005, Patience: 20, Seed: 42, Best Epoch: 11, Train Acc: 0.4890, Val Acc: 0.5287\n",
      "LR: 0.005, Patience: 20, Seed: 123, Best Epoch: 8, Train Acc: 0.5254, Val Acc: 0.4598\n",
      "LR: 0.01, Patience: 10, Seed: 1, Best Epoch: 21, Train Acc: 0.4986, Val Acc: 0.5287\n",
      "LR: 0.01, Patience: 10, Seed: 2, Best Epoch: 16, Train Acc: 0.4919, Val Acc: 0.4789\n",
      "LR: 0.01, Patience: 10, Seed: 3, Best Epoch: 0, Train Acc: 0.5187, Val Acc: 0.4866\n",
      "LR: 0.01, Patience: 10, Seed: 4, Best Epoch: 2, Train Acc: 0.4919, Val Acc: 0.5134\n",
      "LR: 0.01, Patience: 10, Seed: 5, Best Epoch: 4, Train Acc: 0.4736, Val Acc: 0.5326\n",
      "LR: 0.01, Patience: 10, Seed: 6, Best Epoch: 274, Train Acc: 0.4660, Val Acc: 0.5172\n",
      "LR: 0.01, Patience: 10, Seed: 7, Best Epoch: 16, Train Acc: 0.5081, Val Acc: 0.5096\n",
      "LR: 0.01, Patience: 10, Seed: 8, Best Epoch: 6, Train Acc: 0.4909, Val Acc: 0.5211\n",
      "LR: 0.01, Patience: 10, Seed: 9, Best Epoch: 4, Train Acc: 0.5005, Val Acc: 0.5096\n",
      "LR: 0.01, Patience: 10, Seed: 10, Best Epoch: 499, Train Acc: 0.5091, Val Acc: 0.4636\n",
      "LR: 0.01, Patience: 10, Seed: 11, Best Epoch: 27, Train Acc: 0.5225, Val Acc: 0.5556\n",
      "LR: 0.01, Patience: 10, Seed: 12, Best Epoch: 3, Train Acc: 0.5053, Val Acc: 0.5364\n",
      "LR: 0.01, Patience: 10, Seed: 13, Best Epoch: 14, Train Acc: 0.5244, Val Acc: 0.4789\n",
      "LR: 0.01, Patience: 10, Seed: 14, Best Epoch: 6, Train Acc: 0.4679, Val Acc: 0.4981\n",
      "LR: 0.01, Patience: 10, Seed: 15, Best Epoch: 7, Train Acc: 0.4890, Val Acc: 0.5364\n",
      "LR: 0.01, Patience: 10, Seed: 16, Best Epoch: 11, Train Acc: 0.4938, Val Acc: 0.5134\n",
      "LR: 0.01, Patience: 10, Seed: 17, Best Epoch: 2, Train Acc: 0.4497, Val Acc: 0.4904\n",
      "LR: 0.01, Patience: 10, Seed: 18, Best Epoch: 109, Train Acc: 0.5340, Val Acc: 0.5326\n",
      "LR: 0.01, Patience: 10, Seed: 19, Best Epoch: 22, Train Acc: 0.4736, Val Acc: 0.5249\n",
      "LR: 0.01, Patience: 10, Seed: 20, Best Epoch: 14, Train Acc: 0.4631, Val Acc: 0.5172\n",
      "LR: 0.01, Patience: 10, Seed: 42, Best Epoch: 4, Train Acc: 0.4823, Val Acc: 0.4406\n",
      "LR: 0.01, Patience: 10, Seed: 123, Best Epoch: 11, Train Acc: 0.5177, Val Acc: 0.4559\n",
      "LR: 0.01, Patience: 20, Seed: 1, Best Epoch: 21, Train Acc: 0.4986, Val Acc: 0.5287\n",
      "LR: 0.01, Patience: 20, Seed: 2, Best Epoch: 16, Train Acc: 0.4919, Val Acc: 0.4789\n",
      "LR: 0.01, Patience: 20, Seed: 3, Best Epoch: 12, Train Acc: 0.5005, Val Acc: 0.5977\n",
      "LR: 0.01, Patience: 20, Seed: 4, Best Epoch: 2, Train Acc: 0.4919, Val Acc: 0.5134\n",
      "LR: 0.01, Patience: 20, Seed: 5, Best Epoch: 15, Train Acc: 0.4851, Val Acc: 0.4904\n",
      "LR: 0.01, Patience: 20, Seed: 6, Best Epoch: 294, Train Acc: 0.4756, Val Acc: 0.5134\n",
      "LR: 0.01, Patience: 20, Seed: 7, Best Epoch: 16, Train Acc: 0.5081, Val Acc: 0.5096\n",
      "LR: 0.01, Patience: 20, Seed: 8, Best Epoch: 25, Train Acc: 0.4717, Val Acc: 0.5019\n",
      "LR: 0.01, Patience: 20, Seed: 9, Best Epoch: 4, Train Acc: 0.5005, Val Acc: 0.5096\n",
      "LR: 0.01, Patience: 20, Seed: 10, Best Epoch: 499, Train Acc: 0.5091, Val Acc: 0.4636\n",
      "LR: 0.01, Patience: 20, Seed: 11, Best Epoch: 27, Train Acc: 0.5225, Val Acc: 0.5556\n",
      "LR: 0.01, Patience: 20, Seed: 12, Best Epoch: 3, Train Acc: 0.5053, Val Acc: 0.5364\n",
      "LR: 0.01, Patience: 20, Seed: 13, Best Epoch: 14, Train Acc: 0.5244, Val Acc: 0.4789\n",
      "LR: 0.01, Patience: 20, Seed: 14, Best Epoch: 6, Train Acc: 0.4679, Val Acc: 0.4981\n",
      "LR: 0.01, Patience: 20, Seed: 15, Best Epoch: 23, Train Acc: 0.5120, Val Acc: 0.4866\n",
      "LR: 0.01, Patience: 20, Seed: 16, Best Epoch: 29, Train Acc: 0.4919, Val Acc: 0.4828\n",
      "LR: 0.01, Patience: 20, Seed: 17, Best Epoch: 2, Train Acc: 0.4497, Val Acc: 0.4904\n",
      "LR: 0.01, Patience: 20, Seed: 18, Best Epoch: 109, Train Acc: 0.5340, Val Acc: 0.5326\n",
      "LR: 0.01, Patience: 20, Seed: 19, Best Epoch: 22, Train Acc: 0.4736, Val Acc: 0.5249\n",
      "LR: 0.01, Patience: 20, Seed: 20, Best Epoch: 14, Train Acc: 0.4631, Val Acc: 0.5172\n",
      "LR: 0.01, Patience: 20, Seed: 42, Best Epoch: 56, Train Acc: 0.5053, Val Acc: 0.4330\n",
      "LR: 0.01, Patience: 20, Seed: 123, Best Epoch: 11, Train Acc: 0.5177, Val Acc: 0.4559\n",
      "LR: 0.05, Patience: 10, Seed: 1, Best Epoch: 2, Train Acc: 0.5225, Val Acc: 0.4674\n",
      "LR: 0.05, Patience: 10, Seed: 2, Best Epoch: 0, Train Acc: 0.5091, Val Acc: 0.4636\n",
      "LR: 0.05, Patience: 10, Seed: 3, Best Epoch: 0, Train Acc: 0.5091, Val Acc: 0.4636\n",
      "LR: 0.05, Patience: 10, Seed: 4, Best Epoch: 494, Train Acc: 0.5091, Val Acc: 0.4636\n",
      "LR: 0.05, Patience: 10, Seed: 5, Best Epoch: 499, Train Acc: 0.5091, Val Acc: 0.4636\n",
      "LR: 0.05, Patience: 10, Seed: 6, Best Epoch: 56, Train Acc: 0.4765, Val Acc: 0.5211\n",
      "LR: 0.05, Patience: 10, Seed: 7, Best Epoch: 226, Train Acc: 0.4899, Val Acc: 0.5326\n",
      "LR: 0.05, Patience: 10, Seed: 8, Best Epoch: 1, Train Acc: 0.5091, Val Acc: 0.4636\n",
      "LR: 0.05, Patience: 10, Seed: 9, Best Epoch: 5, Train Acc: 0.4909, Val Acc: 0.5364\n",
      "LR: 0.05, Patience: 10, Seed: 10, Best Epoch: 135, Train Acc: 0.4880, Val Acc: 0.5364\n",
      "LR: 0.05, Patience: 10, Seed: 11, Best Epoch: 2, Train Acc: 0.5292, Val Acc: 0.4828\n",
      "LR: 0.05, Patience: 10, Seed: 12, Best Epoch: 0, Train Acc: 0.5407, Val Acc: 0.4828\n",
      "LR: 0.05, Patience: 10, Seed: 13, Best Epoch: 499, Train Acc: 0.5091, Val Acc: 0.4636\n",
      "LR: 0.05, Patience: 10, Seed: 14, Best Epoch: 0, Train Acc: 0.4823, Val Acc: 0.5402\n",
      "LR: 0.05, Patience: 10, Seed: 15, Best Epoch: 499, Train Acc: 0.5091, Val Acc: 0.4636\n",
      "LR: 0.05, Patience: 10, Seed: 16, Best Epoch: 499, Train Acc: 0.4909, Val Acc: 0.5364\n",
      "LR: 0.05, Patience: 10, Seed: 17, Best Epoch: 499, Train Acc: 0.4909, Val Acc: 0.5364\n",
      "LR: 0.05, Patience: 10, Seed: 18, Best Epoch: 25, Train Acc: 0.4909, Val Acc: 0.5364\n",
      "LR: 0.05, Patience: 10, Seed: 19, Best Epoch: 499, Train Acc: 0.4909, Val Acc: 0.5364\n",
      "LR: 0.05, Patience: 10, Seed: 20, Best Epoch: 3, Train Acc: 0.5101, Val Acc: 0.4636\n",
      "LR: 0.05, Patience: 10, Seed: 42, Best Epoch: 0, Train Acc: 0.5110, Val Acc: 0.4636\n",
      "LR: 0.05, Patience: 10, Seed: 123, Best Epoch: 2, Train Acc: 0.4909, Val Acc: 0.5364\n",
      "LR: 0.05, Patience: 20, Seed: 1, Best Epoch: 2, Train Acc: 0.5225, Val Acc: 0.4674\n",
      "LR: 0.05, Patience: 20, Seed: 2, Best Epoch: 0, Train Acc: 0.5091, Val Acc: 0.4636\n",
      "LR: 0.05, Patience: 20, Seed: 3, Best Epoch: 0, Train Acc: 0.5091, Val Acc: 0.4636\n",
      "LR: 0.05, Patience: 20, Seed: 4, Best Epoch: 494, Train Acc: 0.5091, Val Acc: 0.4636\n",
      "LR: 0.05, Patience: 20, Seed: 5, Best Epoch: 499, Train Acc: 0.5091, Val Acc: 0.4636\n",
      "LR: 0.05, Patience: 20, Seed: 6, Best Epoch: 56, Train Acc: 0.4765, Val Acc: 0.5211\n",
      "LR: 0.05, Patience: 20, Seed: 7, Best Epoch: 226, Train Acc: 0.4899, Val Acc: 0.5326\n",
      "LR: 0.05, Patience: 20, Seed: 8, Best Epoch: 1, Train Acc: 0.5091, Val Acc: 0.4636\n",
      "LR: 0.05, Patience: 20, Seed: 9, Best Epoch: 23, Train Acc: 0.4880, Val Acc: 0.5364\n",
      "LR: 0.05, Patience: 20, Seed: 10, Best Epoch: 135, Train Acc: 0.4880, Val Acc: 0.5364\n",
      "LR: 0.05, Patience: 20, Seed: 11, Best Epoch: 2, Train Acc: 0.5292, Val Acc: 0.4828\n",
      "LR: 0.05, Patience: 20, Seed: 12, Best Epoch: 0, Train Acc: 0.5407, Val Acc: 0.4828\n",
      "LR: 0.05, Patience: 20, Seed: 13, Best Epoch: 499, Train Acc: 0.5091, Val Acc: 0.4636\n",
      "LR: 0.05, Patience: 20, Seed: 14, Best Epoch: 0, Train Acc: 0.4823, Val Acc: 0.5402\n",
      "LR: 0.05, Patience: 20, Seed: 15, Best Epoch: 499, Train Acc: 0.5091, Val Acc: 0.4636\n",
      "LR: 0.05, Patience: 20, Seed: 16, Best Epoch: 499, Train Acc: 0.4909, Val Acc: 0.5364\n",
      "LR: 0.05, Patience: 20, Seed: 17, Best Epoch: 499, Train Acc: 0.4909, Val Acc: 0.5364\n",
      "LR: 0.05, Patience: 20, Seed: 18, Best Epoch: 25, Train Acc: 0.4909, Val Acc: 0.5364\n",
      "LR: 0.05, Patience: 20, Seed: 19, Best Epoch: 499, Train Acc: 0.4909, Val Acc: 0.5364\n",
      "LR: 0.05, Patience: 20, Seed: 20, Best Epoch: 3, Train Acc: 0.5101, Val Acc: 0.4636\n",
      "LR: 0.05, Patience: 20, Seed: 42, Best Epoch: 0, Train Acc: 0.5110, Val Acc: 0.4636\n",
      "LR: 0.05, Patience: 20, Seed: 123, Best Epoch: 2, Train Acc: 0.4909, Val Acc: 0.5364\n",
      "LR: 0.1, Patience: 10, Seed: 1, Best Epoch: 499, Train Acc: 0.5091, Val Acc: 0.4636\n",
      "LR: 0.1, Patience: 10, Seed: 2, Best Epoch: 0, Train Acc: 0.4890, Val Acc: 0.5249\n",
      "LR: 0.1, Patience: 10, Seed: 3, Best Epoch: 1, Train Acc: 0.5081, Val Acc: 0.4674\n",
      "LR: 0.1, Patience: 10, Seed: 4, Best Epoch: 0, Train Acc: 0.5091, Val Acc: 0.4636\n",
      "LR: 0.1, Patience: 10, Seed: 5, Best Epoch: 0, Train Acc: 0.5091, Val Acc: 0.4636\n",
      "LR: 0.1, Patience: 10, Seed: 6, Best Epoch: 28, Train Acc: 0.4909, Val Acc: 0.5364\n",
      "LR: 0.1, Patience: 10, Seed: 7, Best Epoch: 3, Train Acc: 0.5273, Val Acc: 0.4713\n",
      "LR: 0.1, Patience: 10, Seed: 8, Best Epoch: 76, Train Acc: 0.4986, Val Acc: 0.4866\n",
      "LR: 0.1, Patience: 10, Seed: 9, Best Epoch: 499, Train Acc: 0.4909, Val Acc: 0.5364\n",
      "LR: 0.1, Patience: 10, Seed: 10, Best Epoch: 499, Train Acc: 0.4909, Val Acc: 0.5364\n",
      "LR: 0.1, Patience: 10, Seed: 11, Best Epoch: 1, Train Acc: 0.5264, Val Acc: 0.5096\n",
      "LR: 0.1, Patience: 10, Seed: 12, Best Epoch: 0, Train Acc: 0.4909, Val Acc: 0.5364\n",
      "LR: 0.1, Patience: 10, Seed: 13, Best Epoch: 0, Train Acc: 0.5091, Val Acc: 0.4636\n",
      "LR: 0.1, Patience: 10, Seed: 14, Best Epoch: 499, Train Acc: 0.4909, Val Acc: 0.5364\n",
      "LR: 0.1, Patience: 10, Seed: 15, Best Epoch: 0, Train Acc: 0.5091, Val Acc: 0.4636\n",
      "LR: 0.1, Patience: 10, Seed: 16, Best Epoch: 0, Train Acc: 0.4909, Val Acc: 0.5364\n",
      "LR: 0.1, Patience: 10, Seed: 17, Best Epoch: 0, Train Acc: 0.4909, Val Acc: 0.5364\n",
      "LR: 0.1, Patience: 10, Seed: 18, Best Epoch: 11, Train Acc: 0.5091, Val Acc: 0.4636\n",
      "LR: 0.1, Patience: 10, Seed: 19, Best Epoch: 0, Train Acc: 0.4909, Val Acc: 0.5364\n",
      "LR: 0.1, Patience: 10, Seed: 20, Best Epoch: 0, Train Acc: 0.4909, Val Acc: 0.5364\n",
      "LR: 0.1, Patience: 10, Seed: 42, Best Epoch: 0, Train Acc: 0.4899, Val Acc: 0.5287\n",
      "LR: 0.1, Patience: 10, Seed: 123, Best Epoch: 0, Train Acc: 0.5129, Val Acc: 0.4636\n",
      "LR: 0.1, Patience: 20, Seed: 1, Best Epoch: 499, Train Acc: 0.5091, Val Acc: 0.4636\n",
      "LR: 0.1, Patience: 20, Seed: 2, Best Epoch: 0, Train Acc: 0.4890, Val Acc: 0.5249\n",
      "LR: 0.1, Patience: 20, Seed: 3, Best Epoch: 1, Train Acc: 0.5081, Val Acc: 0.4674\n",
      "LR: 0.1, Patience: 20, Seed: 4, Best Epoch: 0, Train Acc: 0.5091, Val Acc: 0.4636\n",
      "LR: 0.1, Patience: 20, Seed: 5, Best Epoch: 0, Train Acc: 0.5091, Val Acc: 0.4636\n",
      "LR: 0.1, Patience: 20, Seed: 6, Best Epoch: 28, Train Acc: 0.4909, Val Acc: 0.5364\n",
      "LR: 0.1, Patience: 20, Seed: 7, Best Epoch: 3, Train Acc: 0.5273, Val Acc: 0.4713\n",
      "LR: 0.1, Patience: 20, Seed: 8, Best Epoch: 76, Train Acc: 0.4986, Val Acc: 0.4866\n",
      "LR: 0.1, Patience: 20, Seed: 9, Best Epoch: 499, Train Acc: 0.4909, Val Acc: 0.5364\n",
      "LR: 0.1, Patience: 20, Seed: 10, Best Epoch: 499, Train Acc: 0.4909, Val Acc: 0.5364\n",
      "LR: 0.1, Patience: 20, Seed: 11, Best Epoch: 1, Train Acc: 0.5264, Val Acc: 0.5096\n",
      "LR: 0.1, Patience: 20, Seed: 12, Best Epoch: 13, Train Acc: 0.4909, Val Acc: 0.5364\n",
      "LR: 0.1, Patience: 20, Seed: 13, Best Epoch: 0, Train Acc: 0.5091, Val Acc: 0.4636\n",
      "LR: 0.1, Patience: 20, Seed: 14, Best Epoch: 499, Train Acc: 0.4909, Val Acc: 0.5364\n",
      "LR: 0.1, Patience: 20, Seed: 15, Best Epoch: 0, Train Acc: 0.5091, Val Acc: 0.4636\n",
      "LR: 0.1, Patience: 20, Seed: 16, Best Epoch: 0, Train Acc: 0.4909, Val Acc: 0.5364\n",
      "LR: 0.1, Patience: 20, Seed: 17, Best Epoch: 0, Train Acc: 0.4909, Val Acc: 0.5364\n",
      "LR: 0.1, Patience: 20, Seed: 18, Best Epoch: 11, Train Acc: 0.5091, Val Acc: 0.4636\n",
      "LR: 0.1, Patience: 20, Seed: 19, Best Epoch: 0, Train Acc: 0.4909, Val Acc: 0.5364\n",
      "LR: 0.1, Patience: 20, Seed: 20, Best Epoch: 0, Train Acc: 0.4909, Val Acc: 0.5364\n",
      "LR: 0.1, Patience: 20, Seed: 42, Best Epoch: 0, Train Acc: 0.4899, Val Acc: 0.5287\n",
      "LR: 0.1, Patience: 20, Seed: 123, Best Epoch: 0, Train Acc: 0.5129, Val Acc: 0.4636\n",
      "El mejor resultado en validación fue con:\n",
      "LR: 0.01, Patience: 20, Seed: 3, Best Epoch: 12, Val Acc: 0.5977\n"
     ]
    }
   ],
   "source": [
    "print(\"Resultados de la validación:\")\n",
    "for res in resultados:\n",
    "    print(f\"LR: {res['lr']}, Patience: {res['patience']}, Seed: {res['seed']}, \"\n",
    "          f\"Best Epoch: {res['best_epoch']}, Train Acc: {res['acc_train']:.4f}, \"\n",
    "          f\"Val Acc: {res['acc_val']:.4f}\")\n",
    "    \n",
    "\n",
    "print(\"El mejor resultado en validación fue con:\")\n",
    "best_result = max(resultados, key=lambda x: x['acc_val'])\n",
    "print(f\"LR: {best_result['lr']}, Patience: {best_result['patience']}, Seed: {best_result['seed']}, \"\n",
    "      f\"Best Epoch: {best_result['best_epoch']}, Val Acc: {best_result['acc_val']:.4f}\")"
   ]
  },
  {
   "cell_type": "markdown",
   "metadata": {},
   "source": [
    "LR: 0.01, Patience: 20, Seed: 3, Best Epoch: 12, Val Acc: 0.5977\n"
   ]
  },
  {
   "cell_type": "markdown",
   "metadata": {},
   "source": [
    "### ahora hay que entrenar con lr=best_result['lr'], seed=best_result['seed'] y la cantidad de epochs correspondientes pero con todo dev"
   ]
  },
  {
   "cell_type": "markdown",
   "metadata": {},
   "source": [
    "una vez hecho esto podemos usar test para ver las métricas finles."
   ]
  },
  {
   "cell_type": "code",
   "execution_count": null,
   "metadata": {},
   "outputs": [],
   "source": []
  },
  {
   "cell_type": "markdown",
   "metadata": {},
   "source": [
    "# TESTING CUANDO TERMINÉ EL MODELO"
   ]
  },
  {
   "cell_type": "code",
   "execution_count": 59,
   "metadata": {},
   "outputs": [
    {
     "ename": "TypeError",
     "evalue": "accuracy() missing 2 required positional arguments: 'w' and 'b'",
     "output_type": "error",
     "traceback": [
      "\u001b[0;31m---------------------------------------------------------------------------\u001b[0m",
      "\u001b[0;31mTypeError\u001b[0m                                 Traceback (most recent call last)",
      "\u001b[0;32m/var/folders/js/wm_vh0qd7pb_412bl_804n4r0000gn/T/ipykernel_70194/2553411920.py\u001b[0m in \u001b[0;36m<module>\u001b[0;34m\u001b[0m\n\u001b[1;32m      2\u001b[0m \u001b[0;34m\u001b[0m\u001b[0m\n\u001b[1;32m      3\u001b[0m \u001b[0;34m\u001b[0m\u001b[0m\n\u001b[0;32m----> 4\u001b[0;31m \u001b[0macc_test_n\u001b[0m \u001b[0;34m=\u001b[0m \u001b[0maccuracy\u001b[0m\u001b[0;34m(\u001b[0m\u001b[0my_pred_test_n\u001b[0m\u001b[0;34m,\u001b[0m \u001b[0my_test\u001b[0m\u001b[0;34m)\u001b[0m\u001b[0;34m\u001b[0m\u001b[0;34m\u001b[0m\u001b[0m\n\u001b[0m\u001b[1;32m      5\u001b[0m \u001b[0mprint\u001b[0m\u001b[0;34m(\u001b[0m\u001b[0;34mf\"✅ Accuracy Test:  {acc_test_n:.4f}\"\u001b[0m\u001b[0;34m)\u001b[0m\u001b[0;34m\u001b[0m\u001b[0;34m\u001b[0m\u001b[0m\n\u001b[1;32m      6\u001b[0m \u001b[0;34m\u001b[0m\u001b[0m\n",
      "\u001b[0;31mTypeError\u001b[0m: accuracy() missing 2 required positional arguments: 'w' and 'b'"
     ]
    }
   ],
   "source": [
    "\n",
    "y_pred_test_n = predecir(X_test_normalized, w_final_n, b_final_n)\n",
    "\n",
    "\n",
    "acc_test_n = accuracy(y_pred_test_n, y_test)\n",
    "print(f\"✅ Accuracy Test:  {acc_test_n:.4f}\")\n",
    "\n",
    "\n",
    "cm_test_n = confusion_matrix(y_test, y_pred_test_n)\n",
    "\n",
    "\n",
    "plot_confusion_matrix(cm_test_n, titulo=\"Matriz de Confusión - Test\")\n"
   ]
  },
  {
   "cell_type": "markdown",
   "metadata": {},
   "source": [
    "cuando terminas, una recomendacion es meter las funciones en mòdulos .py segùn què son, ej models, data loading, metrics.\n",
    "\n",
    "y los importas en el ipynb como src.metrics."
   ]
  }
 ],
 "metadata": {
  "kernelspec": {
   "display_name": "base",
   "language": "python",
   "name": "python3"
  },
  "language_info": {
   "codemirror_mode": {
    "name": "ipython",
    "version": 3
   },
   "file_extension": ".py",
   "mimetype": "text/x-python",
   "name": "python",
   "nbconvert_exporter": "python",
   "pygments_lexer": "ipython3",
   "version": "3.9.13"
  }
 },
 "nbformat": 4,
 "nbformat_minor": 2
}
